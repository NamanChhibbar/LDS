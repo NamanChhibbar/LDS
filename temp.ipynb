{
 "cells": [
  {
   "cell_type": "code",
   "execution_count": null,
   "metadata": {},
   "outputs": [],
   "source": [
    "import os\n",
    "import sys\n",
    "import time\n",
    "import pickle\n",
    "import json\n",
    "import re\n",
    "import inspect\n",
    "import warnings\n",
    "\n",
    "import numpy as np\n",
    "import nltk\n",
    "import matplotlib.pyplot as plt\n",
    "import torch\n",
    "import transformers as tfm\n",
    "import sentence_transformers as stfm\n",
    "import dotenv\n",
    "\n",
    "import configs as c\n",
    "import utils.helpers as h\n",
    "import utils.encoders as e\n",
    "import utils.pipelines as p\n",
    "import utils.trainer_utils as tu\n",
    "import utils.evaluator_utils as eu\n",
    "\n",
    "def plot_histogram(data):\n",
    "\tbins = int(len(data) ** .5)\n",
    "\tplt.hist(data, bins=bins)\n",
    "\tplt.show()\n",
    "\n",
    "warnings.filterwarnings(\"ignore\")\n",
    "device = h.get_device(c.GPU_USAGE_TOLERANCE)\n",
    "dotenv.load_dotenv()"
   ]
  },
  {
   "cell_type": "code",
   "execution_count": null,
   "metadata": {},
   "outputs": [],
   "source": [
    "model_name = \"pegasus\"\n",
    "\n",
    "sent_dir = f\"{c.MODELS_DIR}/sent-transformer\"\n",
    "model_dir = f\"{c.MODELS_DIR}/{model_name.lower()}\"\n",
    "\n",
    "govreport_dir = f\"{c.BASE_DIR}/GovReport/processed\"\n",
    "bigpatent_dir = f\"{c.BASE_DIR}/BigPatent/processed\"\n",
    "govreport_files = os.listdir(govreport_dir)\n",
    "bigpatent_files = os.listdir(bigpatent_dir)\n",
    "\n",
    "len(govreport_files), len(bigpatent_files)"
   ]
  },
  {
   "cell_type": "code",
   "execution_count": null,
   "metadata": {},
   "outputs": [],
   "source": [
    "# Sentence transformer\n",
    "# Automatically loads into gpu if available\n",
    "sent_encoder = stfm.SentenceTransformer(sent_dir, device=device)\n",
    "\n",
    "match model_name:\n",
    "\n",
    "\tcase \"bart\":\n",
    "\t\ttokenizer = tfm.BartTokenizer.from_pretrained(model_dir)\n",
    "\t\tmodel = tfm.BartForConditionalGeneration.from_pretrained(model_dir)\n",
    "\t\tcontext_size = model.config.max_position_embeddings\n",
    "\n",
    "\tcase \"t5\":\n",
    "\t\ttokenizer = tfm.T5Tokenizer.from_pretrained(model_dir)\n",
    "\t\tmodel = tfm.T5ForConditionalGeneration.from_pretrained(model_dir)\n",
    "\t\tcontext_size = model.config.n_positions\n",
    "\n",
    "\tcase \"pegasus\":\n",
    "\t\ttokenizer = tfm.PegasusTokenizerFast.from_pretrained(model_dir)\n",
    "\t\tmodel = tfm.PegasusForConditionalGeneration.from_pretrained(model_dir)\n",
    "\t\tcontext_size = model.config.max_position_embeddings\n",
    "\n",
    "\tcase \"gpt\":\n",
    "\t\ttokenizer = tfm.GPT2TokenizerFast.from_pretrained(model_dir)\n",
    "\t\tmodel = \"gpt-3.5-turbo\"\n",
    "\t\tcontext_size = 4096\n",
    "\n",
    "context_size"
   ]
  },
  {
   "cell_type": "code",
   "execution_count": null,
   "metadata": {},
   "outputs": [],
   "source": [
    "preprocessor = h.TextProcessor(preprocessing=True)\n",
    "postprocessor = None"
   ]
  },
  {
   "cell_type": "markdown",
   "metadata": {},
   "source": [
    "## BigPatent"
   ]
  },
  {
   "cell_type": "code",
   "execution_count": null,
   "metadata": {},
   "outputs": [],
   "source": [
    "word_counts = []\n",
    "for file in bigpatent_files:\n",
    "\tfile_path = f\"{bigpatent_dir}/{file}\"\n",
    "\twith open(file_path) as fp:\n",
    "\t\tdata = json.load(fp)\n",
    "\tfor text in data[\"texts\"]:\n",
    "\t\tword_counts.append(h.count_words(text))\n",
    "\n",
    "plot_histogram(word_counts)"
   ]
  },
  {
   "cell_type": "code",
   "execution_count": null,
   "metadata": {},
   "outputs": [],
   "source": [
    "max(word_counts), np.mean(word_counts), len(word_counts)"
   ]
  },
  {
   "cell_type": "code",
   "execution_count": null,
   "metadata": {},
   "outputs": [],
   "source": [
    "sum([\n",
    "\t1\n",
    "\tfor count in word_counts\n",
    "\tif count > 40_000\n",
    "])"
   ]
  },
  {
   "cell_type": "markdown",
   "metadata": {},
   "source": [
    "## Rough"
   ]
  },
  {
   "cell_type": "code",
   "execution_count": null,
   "metadata": {},
   "outputs": [],
   "source": [
    "texts, summaries = [], []\n",
    "num_texts = 0\n",
    "for file in govreport_files:\n",
    "\tfile_path = f\"{govreport_dir}/{file}\"\n",
    "\twith open(file_path) as fp:\n",
    "\t\tdata = json.load(fp)\n",
    "\tif c.MIN_WORDS < h.count_words(data[\"text\"]) < c.MAX_WORDS:\n",
    "\t\ttexts.append(data[\"text\"])\n",
    "\t\tsummaries.append(data[\"summary\"])\n",
    "\t\tnum_texts += 1\n",
    "\tif num_texts == c.MAX_TEXTS:\n",
    "\t\tbreak\n",
    "\n",
    "num_texts"
   ]
  },
  {
   "cell_type": "code",
   "execution_count": null,
   "metadata": {},
   "outputs": [],
   "source": [
    "SEGMENT_MIN_WORDS = 20\n",
    "text_segmenter = h.TextSegmenter(nltk.sent_tokenize, SEGMENT_MIN_WORDS)\n",
    "keywords_preprocessor = h.TextProcessor(\n",
    "\tonly_words_nums = True,\n",
    "\tremove_nums = True\n",
    ")\n",
    "stop_words = h.get_stop_words(extra_stop_words=c.EXTRA_STOP_WORDS)\n",
    "len(stop_words)"
   ]
  },
  {
   "cell_type": "code",
   "execution_count": null,
   "metadata": {},
   "outputs": [],
   "source": [
    "encoders = [\n",
    "\te.TruncateMiddle(\n",
    "\t\ttokenizer, context_size, 1, preprocessor\n",
    "\t),\n",
    "\te.TruncateMiddle(\n",
    "\t\ttokenizer, context_size, c.HEAD_SIZE, preprocessor, True\n",
    "\t),\n",
    "\te.UniformSampler(\n",
    "\t\ttokenizer, c.MIN_TOKEN_FRAC * context_size, context_size,\n",
    "\t\ttext_segmenter, preprocessor, True, c.SEED\n",
    "\t),\n",
    "\te.SegmentSampler(\n",
    "\t\ttokenizer, c.MIN_TOKEN_FRAC * context_size, context_size,\n",
    "\t\ttext_segmenter, sent_encoder, preprocessor, c.THRESHOLD, c.PROB_BOOST, c.SEED\n",
    "\t),\n",
    "\te.RemoveRedundancy(\n",
    "\t\ttokenizer, c.MIN_TOKEN_FRAC * context_size, context_size,\n",
    "\t\ttext_segmenter, sent_encoder, preprocessor, c.THRESHOLD, c.SEED\n",
    "\t),\n",
    "\te.KeywordScorer(\n",
    "\t\ttokenizer, context_size, text_segmenter, sent_encoder,\n",
    "\t\tpreprocessor, c.NUM_KEYWORDS, keywords_preprocessor, stop_words\n",
    "\t)\n",
    "]\n",
    "\n",
    "pipelines = [\n",
    "\tp.SummarizationPipeline(\n",
    "\t\tmodel, enc, postprocessor, c.MIN_SUMMARY_TOKENS,\n",
    "\t\tcontext_size, device, c.TEMPERATURE, c.REPETITION_PENALTY, c.TOP_P\n",
    "\t) for enc in encoders\n",
    "] if model_name != \"gpt\" else [\n",
    "\tp.OpenAIPipeline(\n",
    "\t\tmodel, enc, postprocessor, c.SYSTEM_PROMPT\n",
    "\t) for enc in encoders\n",
    "]"
   ]
  },
  {
   "cell_type": "code",
   "execution_count": null,
   "metadata": {},
   "outputs": [],
   "source": [
    "processed_texts = preprocessor(texts)\n",
    "threshold = .5\n",
    "num_segments_found = []\n",
    "for text in processed_texts:\n",
    "\tkeywords = h.get_keywords(text, 20, stop_words, keywords_preprocessor)\n",
    "\tkeywords = \" \".join(keywords)\n",
    "\tkeyword_emb = sent_encoder.encode(keywords)\n",
    "\tsegments = text_segmenter(text)\n",
    "\tsegment_embs = sent_encoder.encode(segments)\n",
    "\tscores = segment_embs @ keyword_emb\n",
    "\tnum_segments = (scores > threshold).sum()\n",
    "\tnum_segments_found.append(num_segments)"
   ]
  },
  {
   "cell_type": "code",
   "execution_count": null,
   "metadata": {},
   "outputs": [],
   "source": [
    "np.sort(num_segments_found)"
   ]
  },
  {
   "cell_type": "code",
   "execution_count": null,
   "metadata": {},
   "outputs": [],
   "source": [
    "with open(f\"{c.BASE_DIR}/pegasus-govreport.pkl\", \"rb\") as fp:\n",
    "\tresults = pickle.load(fp)\n",
    "scores = results[\"scores\"]\n",
    "sort1, sort2, sort3 = results[\"sort1\"], results[\"sort2\"], results[\"sort3\"]\n",
    "gen_summaries = results[\"gen_summaries\"]\n",
    "scores[0][sort1]"
   ]
  },
  {
   "cell_type": "code",
   "execution_count": null,
   "metadata": {},
   "outputs": [],
   "source": [
    "ind = 0\n",
    "problem_text = results[\"texts\"][sort1[ind]]\n",
    "print(gen_summaries[sort1[ind]])"
   ]
  },
  {
   "cell_type": "code",
   "execution_count": null,
   "metadata": {},
   "outputs": [],
   "source": [
    "with open(f\"{c.BASE_DIR}/bart-bigpatent-times.json\") as fp:\n",
    "\tresults = json.load(fp)\n",
    "times = np.array(results[\"encoder_times\"])[1:]\n",
    "times"
   ]
  },
  {
   "cell_type": "code",
   "execution_count": null,
   "metadata": {},
   "outputs": [],
   "source": [
    "plt.bar([\n",
    "\t\"Truncate\\nMiddle\", \"Document\\nSkimming\",\n",
    "\t\"Skimming w/\\npost-sampling\\nremoval\",\n",
    "\t\"Skimming\\nw/ pre-\\nsampling\\nremoval\", \"Summarization\\nw/ Keyword\\nExtraction\"\n",
    "], times, color=\"green\")"
   ]
  },
  {
   "cell_type": "code",
   "execution_count": null,
   "metadata": {},
   "outputs": [],
   "source": [
    "a = np.array([\n",
    "\t[1, 2],\n",
    "\t[3, 4],\n",
    "\t[5, 6]\n",
    "])\n",
    "b = np.array([1, 1])\n",
    "\n",
    "a @ b"
   ]
  },
  {
   "cell_type": "code",
   "execution_count": null,
   "metadata": {},
   "outputs": [],
   "source": []
  }
 ],
 "metadata": {
  "kernelspec": {
   "display_name": "uccs-reu",
   "language": "python",
   "name": "python3"
  },
  "language_info": {
   "codemirror_mode": {
    "name": "ipython",
    "version": 3
   },
   "file_extension": ".py",
   "mimetype": "text/x-python",
   "name": "python",
   "nbconvert_exporter": "python",
   "pygments_lexer": "ipython3",
   "version": "3.12.2"
  }
 },
 "nbformat": 4,
 "nbformat_minor": 2
}
