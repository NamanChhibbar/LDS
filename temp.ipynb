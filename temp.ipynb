{
 "cells": [
  {
   "cell_type": "code",
   "execution_count": 1,
   "metadata": {},
   "outputs": [],
   "source": [
    "import os\n",
    "from sys import getsizeof\n",
    "import json\n",
    "import re\n",
    "import pickle\n",
    "import inspect\n",
    "from concurrent.futures import ProcessPoolExecutor\n",
    "\n",
    "import numpy as np\n",
    "import nltk\n",
    "import matplotlib.pyplot as plt\n",
    "import torch\n",
    "from transformers import (\n",
    "\tBartTokenizer, BartForConditionalGeneration,\n",
    "\tT5Tokenizer, T5ForConditionalGeneration,\n",
    "\tGPT2TokenizerFast\n",
    ")\n",
    "from sentence_transformers import SentenceTransformer\n",
    "from sklearn.decomposition import LatentDirichletAllocation\n",
    "from sklearn.feature_extraction.text import CountVectorizer\n",
    "from dotenv import load_dotenv\n",
    "import tiktoken\n",
    "import openai\n",
    "\n",
    "from utils.helpers import *\n",
    "from utils.encoders import *\n",
    "from utils.pipelines import *\n",
    "from utils.trainer_utils import *\n",
    "from utils.evaluator_utils import *"
   ]
  },
  {
   "cell_type": "code",
   "execution_count": 2,
   "metadata": {},
   "outputs": [
    {
     "data": {
      "text/plain": [
       "True"
      ]
     },
     "execution_count": 2,
     "metadata": {},
     "output_type": "execute_result"
    }
   ],
   "source": [
    "load_dotenv()"
   ]
  },
  {
   "cell_type": "code",
   "execution_count": 3,
   "metadata": {},
   "outputs": [
    {
     "name": "stdout",
     "output_type": "stream",
     "text": [
      "crs files: 7238, gao files: 12228\n"
     ]
    }
   ],
   "source": [
    "# data_dir = \"/Users/naman/Workspace/Data/UCCS-REU\"\n",
    "data_dir = \"/home/nchibbar/Data\"\n",
    "\n",
    "crs_files = os.listdir(crs_dir := f\"{data_dir}/GovReport/crs\")\n",
    "gao_files = os.listdir(gao_dir := f\"{data_dir}/GovReport/gao\")\n",
    "\n",
    "print(f\"crs files: {len(crs_files)}, gao files: {len(gao_files)}\")\n",
    "\n",
    "crs_out = f\"{data_dir}/GovReport/crs-processed\"\n",
    "gao_out = f\"{data_dir}/GovReport/gao-processed\""
   ]
  },
  {
   "cell_type": "code",
   "execution_count": 4,
   "metadata": {},
   "outputs": [
    {
     "name": "stderr",
     "output_type": "stream",
     "text": [
      "Special tokens have been added in the vocabulary, make sure the associated word embeddings are fine-tuned or trained.\n"
     ]
    },
    {
     "data": {
      "text/plain": [
       "1024"
      ]
     },
     "execution_count": 4,
     "metadata": {},
     "output_type": "execute_result"
    }
   ],
   "source": [
    "max_tokens = 512\n",
    "\n",
    "# Sentence transformer\n",
    "sent_dir = f\"{data_dir}/Models/Sent-Transformer\"\n",
    "sent_encoder = SentenceTransformer(sent_dir)\n",
    "\n",
    "# BART\n",
    "bart_dir = f\"{data_dir}/Models/BART\"\n",
    "bart_fine_tuned = f\"{data_dir}/Models/BART-GovReport-SentenceSampler\"\n",
    "tokenizer = BartTokenizer.from_pretrained(bart_dir)\n",
    "model = BartForConditionalGeneration.from_pretrained(bart_fine_tuned)\n",
    "context_size = model.config.max_position_embeddings\n",
    "\n",
    "# T5\n",
    "# t5_dir = f\"{data_dir}/Models/T5\"\n",
    "# tokenizer = T5Tokenizer.from_pretrained(t5_dir)\n",
    "# model = T5ForConditionalGeneration.from_pretrained(t5_dir)\n",
    "# context_size = model.config.n_positions\n",
    "\n",
    "# GPT 3.5 turbo tokenizer\n",
    "gpt_dir = f\"{data_dir}/Models/GPT-3.5-turbo-tokenizer\"\n",
    "gpt_tokenizer = GPT2TokenizerFast.from_pretrained(gpt_dir)\n",
    "\n",
    "context_size"
   ]
  },
  {
   "cell_type": "code",
   "execution_count": 5,
   "metadata": {},
   "outputs": [
    {
     "data": {
      "text/plain": [
       "['<s>', '</s>', '<unk>', '</s>', '<pad>', '<s>', '<mask>']"
      ]
     },
     "execution_count": 5,
     "metadata": {},
     "output_type": "execute_result"
    }
   ],
   "source": [
    "special_tokens = extract_special_tokens(\n",
    "\ttokenizer.special_tokens_map.values()\n",
    ")\n",
    "preprocessor = TextProcessor(preprocessing=True)\n",
    "postprocessor = None\n",
    "# postprocessor = TextProcessor(ignore_tokens=special_tokens)\n",
    "special_tokens"
   ]
  },
  {
   "cell_type": "code",
   "execution_count": 6,
   "metadata": {},
   "outputs": [],
   "source": [
    "head_size = .5\n",
    "threshold = .7\n",
    "seed = 69\n",
    "device = get_device()\n",
    "device = \"cpu\"\n",
    "\n",
    "encoders = [\n",
    "\tTruncateMiddle(\n",
    "\t\ttokenizer=tokenizer, max_tokens=context_size,\n",
    "\t\thead_size=head_size, preprocessor=preprocessor\n",
    "\t),\n",
    "\tUniformSampler(\n",
    "\t\ttokenizer=tokenizer, max_tokens=context_size,\n",
    "\t\tsent_tokenizer=nltk.sent_tokenize, preprocessor=preprocessor,\n",
    "\t\tseed=seed\n",
    "\t),\n",
    "\tSentenceSampler(\n",
    "\t\ttokenizer=tokenizer, max_tokens=context_size,\n",
    "\t\tsent_tokenizer=nltk.sent_tokenize, sent_encoder=sent_encoder,\n",
    "\t\tpreprocessor=preprocessor, threshold=threshold,\n",
    "\t\tdevice=device, seed=seed\n",
    "\t),\n",
    "\tRemoveRedundancy(\n",
    "\t\ttokenizer=tokenizer, max_tokens=context_size,\n",
    "\t\tsent_tokenizer=nltk.sent_tokenize, sent_encoder=sent_encoder,\n",
    "\t\tpreprocessor=preprocessor, threshold=threshold,\n",
    "\t\tdevice=device, seed=seed\n",
    "\t)\n",
    "]\n",
    "\n",
    "pipelines = [\n",
    "\tSummarizationPipeline(\n",
    "\t\tmodel, encoder, max_tokens, postprocessor, device\n",
    "\t) for encoder in encoders\n",
    "]"
   ]
  },
  {
   "cell_type": "markdown",
   "metadata": {},
   "source": [
    "## GovReport"
   ]
  },
  {
   "cell_type": "code",
   "execution_count": null,
   "metadata": {},
   "outputs": [],
   "source": [
    "def combine_subsections(sections):\n",
    "\ttext = \"\"\n",
    "\tfor sec in sections:\n",
    "\t\tsec_text = \"\\n\\n\".join(sec[\"paragraphs\"])\n",
    "\t\tif sec[\"section_title\"]:\n",
    "\t\t\tsec_text = f\"Section {sec[\"section_title\"]}:\\n\\n{sec_text}\"\n",
    "\t\ttext = f\"{text}\\n\\n{sec_text}\" if text else sec_text\n",
    "\t\tif sec[\"subsections\"]:\n",
    "\t\t\tsub_text = combine_subsections(sec[\"subsections\"])\n",
    "\t\t\ttext = f\"{text}\\n\\n{sub_text}\" if text else sub_text\n",
    "\treturn text"
   ]
  },
  {
   "cell_type": "code",
   "execution_count": null,
   "metadata": {},
   "outputs": [],
   "source": [
    "for file in crs_files:\n",
    "\twith open(f\"{crs_dir}/{file}\") as fp:\n",
    "\t\tdata = json.load(fp)\n",
    "\ttext = combine_subsections([data[\"reports\"]])\n",
    "\ttext = preprocessor.process(text)\n",
    "\tsummary = \"\\n\".join(data[\"summary\"])\n",
    "\tsummary = preprocessor.process(summary)\n",
    "\twith open(f\"{crs_out}/{file}\", \"w\") as fp:\n",
    "\t\tjson.dump({\n",
    "\t\t\t\"text\": text,\n",
    "\t\t\t\"summary\": summary\n",
    "\t\t}, fp)"
   ]
  },
  {
   "cell_type": "code",
   "execution_count": null,
   "metadata": {},
   "outputs": [],
   "source": [
    "for file in gao_files:\n",
    "\twith open(f\"{gao_dir}/{file}\") as fp:\n",
    "\t\tdata = json.load(fp)\n",
    "\ttext = combine_subsections(data[\"report\"])\n",
    "\ttext = preprocessor.process(text)\n",
    "\tprint(data[\"highlight\"])\n",
    "\tsummary = \"\\n\".join(data[\"highlight\"])\n",
    "\tsummary = preprocessor.preprocess(summary)\n",
    "\twith open(f\"{gao_out}/{file}\", \"w\") as fp:\n",
    "\t\tjson.dump({\n",
    "\t\t\t\"text\": text,\n",
    "\t\t\t\"summary\": summary\n",
    "\t\t}, fp)"
   ]
  },
  {
   "cell_type": "markdown",
   "metadata": {},
   "source": [
    "## LDA"
   ]
  },
  {
   "cell_type": "code",
   "execution_count": null,
   "metadata": {},
   "outputs": [],
   "source": [
    "vectorizer = CountVectorizer(stop_words=\"english\")\n",
    "vectorizer"
   ]
  },
  {
   "cell_type": "code",
   "execution_count": null,
   "metadata": {},
   "outputs": [],
   "source": [
    "dtm = vectorizer.fit_transform([data[\"text\"]])\n",
    "vectorizer"
   ]
  },
  {
   "cell_type": "code",
   "execution_count": null,
   "metadata": {},
   "outputs": [],
   "source": [
    "print(dtm)"
   ]
  },
  {
   "cell_type": "code",
   "execution_count": null,
   "metadata": {},
   "outputs": [],
   "source": [
    "topics = 4\n",
    "lda = LatentDirichletAllocation(n_components=topics)\n",
    "lda.fit(dtm)"
   ]
  },
  {
   "cell_type": "code",
   "execution_count": null,
   "metadata": {},
   "outputs": [],
   "source": [
    "topic_dist = lda.transform(dtm)\n",
    "print(topic_dist)"
   ]
  },
  {
   "cell_type": "code",
   "execution_count": null,
   "metadata": {},
   "outputs": [],
   "source": [
    "def display_topics(model, feature_names, num_top_words):\n",
    "\tfor topic_idx, topic in enumerate(model.components_):\n",
    "\t\tprint(f\"Topic {topic_idx}:\")\n",
    "\t\tprint(\" \".join([feature_names[i] for i in topic.argsort()[:-num_top_words - 1:-1]]))"
   ]
  },
  {
   "cell_type": "code",
   "execution_count": null,
   "metadata": {},
   "outputs": [],
   "source": [
    "num_top_words = 10\n",
    "feature_names = vectorizer.get_feature_names_out()\n",
    "display_topics(lda, feature_names, num_top_words)"
   ]
  },
  {
   "cell_type": "markdown",
   "metadata": {},
   "source": [
    "## Rough"
   ]
  },
  {
   "cell_type": "code",
   "execution_count": 7,
   "metadata": {},
   "outputs": [],
   "source": [
    "texts, summaries = [], []"
   ]
  },
  {
   "cell_type": "code",
   "execution_count": 8,
   "metadata": {},
   "outputs": [
    {
     "data": {
      "text/plain": [
       "(53559, 500)"
      ]
     },
     "execution_count": 8,
     "metadata": {},
     "output_type": "execute_result"
    }
   ],
   "source": [
    "# max 73_791\n",
    "min_words_text = 50_000\n",
    "for file in crs_files:\n",
    "\twith open(f\"{crs_out}/{file}\") as fp:\n",
    "\t\tdata = json.load(fp)\n",
    "\tif count_words(data[\"text\"]) >= min_words_text:\n",
    "\t\tbreak\n",
    "texts.append(data[\"text\"])\n",
    "summaries.append(data[\"summary\"])\n",
    "\n",
    "count_words(data[\"text\"]), count_words(data[\"summary\"])"
   ]
  },
  {
   "cell_type": "code",
   "execution_count": 5,
   "metadata": {},
   "outputs": [
    {
     "data": {
      "text/plain": [
       "7238"
      ]
     },
     "execution_count": 5,
     "metadata": {},
     "output_type": "execute_result"
    }
   ],
   "source": [
    "texts, summaries = [], []\n",
    "for file in crs_files:\n",
    "\twith open(f\"{crs_out}/{file}\") as fp:\n",
    "\t\tdata = json.load(fp)\n",
    "\ttexts.append(data[\"text\"])\n",
    "\tsummaries.append(data[\"summary\"])\n",
    "\n",
    "len(texts)"
   ]
  },
  {
   "cell_type": "code",
   "execution_count": 106,
   "metadata": {},
   "outputs": [
    {
     "data": {
      "text/plain": [
       "\"<s>Participation data: In June 2009, a total of 18 million families, composed of 43 million recipients (including 33 million children), received TANF- or MOE-funded cash assistance In June 2010, a total of 19 million families, composed of 45 million recipients (including 34 million children), received TANF- or MOE-funded cash assistance The larger number of individuals or families receiving any TANF- or MOE-funded benefit or service is not known\\n\\nCRS report: CRS Report R40946, The Temporary Assistance for Needy Families Block Grant: An Introduction, by [author name scrubbed].\\nIn some limited circumstances, families may be low-income, with incomes as high as 80% of area median income\\n\\nForm and recipient of federal assistance: Project-based rental assistance contracts between HUD and private property owners HUD has not had the authority to enter into new contracts since 1983, but does have the authority to renew existing contracts when they expire There are properties with project-based rental assistance contracts in the territories (U.S Virgin Islands, Puerto Rico, and Guam).\\nAllocation formula: Portions of available annual funds are allocated under four different formulasBasic, Concentration, Targeted, and Education Finance Incentive Grants (EFIG)although funds are then combined and used for the same purposes by recipient LEAs Although the allocation formulas have several distinctive elements, the primary factors used in all four formulas are an eligible child count and an expenditure factor The eligible child count includes children aged 5-17: (a) in poor families; (b) in institutions for neglected or delinquent children or in foster homes; and (c) in families receiving Temporary Assistance for Needy Families payments above the poverty level Each element of the population factor is updated annually The expenditure factor is the state average per pupil expenditure for public K-12 education (subject to a minimum of 80% and maximum of 120% of the national average, further multiplied by 040), and is the same for all LEAs in the same state Both the Targeted and EFIG formulas include weighting schemes to increase aid to LEAs with the highest numbers or concentrations of eligible children The EFIG formula also includes an effort factor, based on average per pupil expenditure for public K-12 education compared to personal income per capita for each state compared to the nation as a whole, and an equity factor, based on variations in average per pupil expenditures among the LEAs in each state Each formula has a hold-harmless provision (no LEA may receive less than 85%-95% of its previous year grant, depending on the LEA's poverty level and whether the LEA continues to meet the formula's eligibility threshold).\\nNew obligations: FY2009: $2.324 billion FY2008: $2.038 billion\\n\\nBudgetary classification: Mandatory (open-ended entitlement to states).\\n</s>\""
      ]
     },
     "execution_count": 106,
     "metadata": {},
     "output_type": "execute_result"
    }
   ],
   "source": [
    "inp = tokenizer.decode(encoders[2](texts)[\"input_ids\"][0])\n",
    "inp"
   ]
  },
  {
   "cell_type": "code",
   "execution_count": 35,
   "metadata": {},
   "outputs": [],
   "source": [
    "class OpenAIPipeline:\n",
    "\n",
    "\tdef __init__(\n",
    "\t\tself, model: str, encoder: Encoder,\n",
    "\t\tprompt_template: str=\"\", system_prompt: str=\"\"\n",
    "\t) -> None:\n",
    "\t\tself.model = model\n",
    "\t\tself.encoder = encoder\n",
    "\t\tself.max_tokens = encoder.max_tokens\n",
    "\t\tself.prompt_template = prompt_template\n",
    "\t\tself.system_prompt = system_prompt\n",
    "\t\tself.call_inputs = None\n",
    "\t\tself.response = None\n",
    "\t\n",
    "\tdef create_inputs(\n",
    "\t\tself, text: str, previous_messages: list[str]|None=None\n",
    "\t) -> int:\n",
    "\t\tencoder = self.encoder\n",
    "\t\tmax_tokens = self.max_tokens\n",
    "\t\tprompt_template = self.prompt_template\n",
    "\t\ttokenizer = encoder.tokenizer\n",
    "\n",
    "\t\t# Tokens used to create OpenAI prompt template\n",
    "\t\t# 3 tokens for prompt base\n",
    "\t\t# 4 tokens each for every message\n",
    "\t\tnum_prev_msgs = 0 if previous_messages is None else len(previous_messages)\n",
    "\t\ttokens_used = 3 + 4 * (2 * num_prev_msgs + 1)\n",
    "\n",
    "\t\t# Create system prompt\n",
    "\t\tsystem_prompt = self.system_prompt\n",
    "\t\tmessages = []\n",
    "\t\tif system_prompt:\n",
    "\t\t\tmessages.append({\"role\": \"system\", \"content\": system_prompt})\n",
    "\t\t\ttokens_used += count_tokens(system_prompt, tokenizer) + 4\n",
    "\t\tif num_prev_msgs:\n",
    "\t\t\tfor text, summary in previous_messages:\n",
    "\t\t\t\tmessages.append({\"role\": \"user\", \"content\": text})\n",
    "\t\t\t\tmessages.append({\"role\": \"assistant\", \"content\": summary})\n",
    "\t\t\t\ttokens_used += count_tokens([text, summary], tokenizer)\n",
    "\t\ttokens_used += count_tokens(prompt_template, tokenizer)\n",
    "\t\tencodings = encoder.encode([text], max_tokens - tokens_used)[0]\n",
    "\t\ttext = tokenizer.decode(encodings, ignore_special_tokens=True)\n",
    "\t\tprompt = f\"{prompt_template}{text}\"\n",
    "\t\tmessages.append({\"role\": \"user\", \"content\": prompt})\n",
    "\t\tself.call_inputs = {\n",
    "\t\t\t\"model\": self.model,\n",
    "\t\t\t\"messages\": messages,\n",
    "\t\t\t\"max_tokens\": max_tokens\n",
    "\t\t}\n",
    "\t\treturn tokens_used\n",
    "\t\n",
    "\tdef send_call(self):\n",
    "\t\tcall_inputs = self.call_inputs\n",
    "\t\tassert call_inputs is not None, \"Call inputs not created\"\n",
    "\t\ttry:\n",
    "\t\t\tself.response = openai.chat.completions.create(**call_inputs)\n",
    "\t\texcept Exception as e:\n",
    "\t\t\tshow_exception(e)\n",
    "\t\treturn self.response"
   ]
  },
  {
   "cell_type": "code",
   "execution_count": 27,
   "metadata": {},
   "outputs": [],
   "source": [
    "max_tokens = 4096\n",
    "\n",
    "encoder = SentenceSampler(\n",
    "\tgpt_tokenizer, max_tokens, nltk.sent_tokenize, sent_encoder,\n",
    "\tpreprocessor, False, device=device, seed=seed\n",
    ")"
   ]
  },
  {
   "cell_type": "code",
   "execution_count": 36,
   "metadata": {},
   "outputs": [],
   "source": [
    "openai_model = \"gpt-3.5-turbo\"\n",
    "system_prompt = \"You are an expert summarizer. You summarize very long texts, given some of its sentences. You extract key information and ideas from the sentences to generate a concise and coherent summary with more than 300 words.\"\n",
    "\n",
    "openai_pipeline = OpenAIPipeline(\n",
    "\topenai_model, encoder, system_prompt=system_prompt\n",
    ")"
   ]
  },
  {
   "cell_type": "code",
   "execution_count": 37,
   "metadata": {},
   "outputs": [
    {
     "data": {
      "text/plain": [
       "57"
      ]
     },
     "execution_count": 37,
     "metadata": {},
     "output_type": "execute_result"
    }
   ],
   "source": [
    "openai_pipeline.create_inputs(texts[0])"
   ]
  },
  {
   "cell_type": "code",
   "execution_count": 38,
   "metadata": {},
   "outputs": [
    {
     "data": {
      "text/plain": [
       "{'model': 'gpt-3.5-turbo',\n",
       " 'messages': [{'role': 'system',\n",
       "   'content': 'You are an expert summarizer. Your task is to summarize long texts into concise and coherent summaries. You will be provided with some sentences of the text, generate a summary for the whole text by extracting important information from these sentences.'},\n",
       "  {'role': 'user',\n",
       "   'content': '\"Social welfare,\" \"social safety net,\" and \"public welfare\" are generic terms sometimes used to refer to these programs; however, there is no single label that best describes all programs included in this report. If smaller programs were included, the overall number of programs would be larger, but the analysis would essentially be unchanged. Medicaid replaced two earlier programs of federal grants to states that provided medical care to welfare recipients and the elderly. The credit has been expanded several times over the past 30 years and is currently one of the largest cash assistance programs for low-income households, reflecting the prevailing policy goal of \"make work pay.\" Figure 2 displays FY2008 and FY2009 spending by category, and also highlights the portion of spending in FY2009 attributable to ARRA. Some large entitlement programs (e.g., Medicaid, the Supplemental Nutrition Assistance Program (SNAP)) saw additional growth in spending beyond that provided under ARRA, likely due to an increase in eligible and enrolled individuals as a result of the economic downturn. Spending for food assistance rose by almost $19 billion between FY2008 and FY2009. However, ARRA was enacted before final decisions were made on total FY2009 appropriations, so appropriators were able to take into consideration the additional amounts already provided through ARRA. In an open-ended entitlement program, no predetermined ceiling is imposed on federal expenditures; instead, federal payments are made to all eligible beneficiaries for eligible expenditures as defined in law. (Temporary Assistance for Needy Families is an example of a capped entitlement program.) While the program does not target benefits to certain demographic groups, nearly half of SNAP recipients in FY2009 were children and another 8% were age 60 or older. These are Pell Grants (which also includes a mandatory component), Title I-A of ESEA, and housing vouchers. Specific dollar amounts are used to define eligibility for SSI and also to determine when EITC benefits begin to phase out. TANF allocates block grants to states according to a formula that considers their spending patterns under the predecessor Aid to Families with Dependent Children (AFDC) program. Section Overview of Benefits and Services by Category:\\n\\nThe following sections provide brief overviews of the programs included in each major category of benefits and services, organized by size of spending in FY2009. Section Health Care:\\n\\nAs health care dominates federal spending on benefits and services for people with limited income, Medicaid dominates spending within the health care category. These temporary programs offered grants to states in lieu of tax credits and provided capital investments for owners of certain LIHTC-financed properties. Title I-A provides grants to local educational agencies with high concentrations of disadvantaged children and aims to ensure that all children have an opportunity to obtain a high-quality education and reach at least minimum proficiency on challenging academic achievement standards. The Bureau of Indian Education operates several programs to meet the educational needs of Indian children living on or near reservations. Services funded by TANF are the largest single activity in this category, accounting for almost a quarter of social services spending in this report. The section looks at use of the federal poverty guidelines, as well as other measures of economic need used to define eligibility such as specific dollar amounts, percentages of area or state median income, and the \"need analysis\" system used for postsecondary student aid. Job Corps limits eligibility to those with income no higher than 100% of FPG; however, certain groups qualify automatically. Both adult and youth activities under WIA also allow automatic eligibility for specified groups. Veterans\\' benefits and SSI adjustments are tied to Social Security cost-of-living adjustments (COLAs); and EITC is adjusted for price changes through indexing to the Consumer Price Index. However, 75% of the Section 8 vouchers that become available each year must go to \"extremely low-income\" people, defined as those with income no higher than 30% of area median. Similarly, Public Housing serves low-income families (80% of area median) but at least 40% of units that become available each year must go to extremely low-income families (30% of area median). As noted above, these programs use a relative concept to determine the amount of aid a student is eligible to receive. In the cash assistance category, asset rules apply to pensions for needy veterans and to the SSI program. While housing programs do not have asset tests, several impute a certain amount of income from assets. The Maternal and Child Health block grant allocates funds according to states\\' relative shares of funding under predecessor programs, and according to their population of low-income children. The Chafee Foster Care Independence Program bases allocations on each state\\'s number of foster children; the Emergency Food and Shelter Program allocates funds to local jurisdictions based on their number of unemployed persons; and SSBG allocates funds according to total state population. The rural Water and Waste Disposal program varies the amount of federal support provided by the income level of the community served. Under this approach, funding is not necessarily distributed nationwide, but only to areas or entities meeting specified criteria. An exception is the Emergency Food and Shelter Program, which allocates funding among eligible local jurisdictions and makes grants to local boards in those jurisdictions. Competitive awards are less common than formula grants among federal benefits and services for limited-income populations. These grants are awarded by the federal government directly to public and private nonprofit agencies through a competitive process. Matching grants are generally designed in one of two ways. More typically, matching programs require grantees to demonstrate that they can provide nonfederal resources equal to a percentage of the federal grant, but the federal government is not necessarily reimbursing grantees for expenditures already incurred. As noted above, some programs use maintenance-of-effort (MOE) requirements to ensure a minimum level of nonfederal spending. For example, rental assistance is a function of both family income and the fair market rent of a particular housing unit. The table shows maximum TANF cash benefits for states with the highest benefits (Alaska) and with the lowest benefits (Tennessee for family size of two, Mississippi for family size of three). As for the level of participation in federal low-income programs, the fact sheets in Appendix C provide very limited data, primarily to give a sense of scope for each program. Budget authority in turn allows federal agencies to incur obligations , through actions such as entering into contracts, employing personnel, and submitting purchase orders. Outlays represent the actual payment of these obligations, usually in the form of electronic transfers or checks issued by the Treasury Department. However, this report uses different methodologies to select and categorize programs and measure spending; therefore, the current report cannot be considered an update of Cash and Noncash for various reasons. Table B -3 shows the type of federal assistance provided (typically formula grants, competitive or discretionary grants, or direct benefits) and the immediate recipients of this assistance. Some veterans also may receive long-term care, including nursing home care, domiciliary care, adult day care, and limited dental care. Allocation formula: Not applicable. Individual eligibility criteria: Priority is given to individuals from low-income families, defined in regulation as individuals whose family income does not exceed 100% of federal poverty guidelines, and individuals whose family income exceeds 100% of federal poverty guidelines but who otherwise are unable to afford family planning services. 104-299 ) and most recently reauthorized by the Patient Protection and Affordable Care Act ( P.L. Regulations: 42 CFR Subpart 51c and 42 CFR Parts 56.201-56.604. Grantees are expected to collect fees from third-party payors, such as Medicare, Medicaid, and private health insurance; centers may also collect fees from patients with family income above the federal poverty guidelines; and centers may also receive funding from state, local and other federal sources. Purpose of program: To provide for the effective resettlement of refugees and to assist them to achieve economic self-sufficiency as quickly as possible. States may seek federal approval to serve higher-income children. Matching or related requirements: State expenditures are matched at an \"enhanced\" federal medical assistance percentage (E-FMAP). The CHIP E-FMAP rate is subject to a ceiling of 85% and a floor of 65%. Certain individuals are automatically eligible: those also eligible for Medicaid (i.e., \"dual eligibles\"); Medicare Savings Program recipients; and Supplemental Security Income (SSI) recipients. Purpose of program: To address the unmet care and treatment needs of persons living with HIV/AIDS who are uninsured or underinsured, and therefore are unable to pay for HIV/AIDS health care and vital health-related supportive services. Participation data: It is estimated that the program serves more than a half-million low-income people with HIV/AIDS each year. Form and recipient of federal assistance: Competitive grants to states, which enter into grants and contracts with public and private nonprofit entities. New obligations: FY2009: $206 million. 83-568) and the Indian Health Care Improvement Act of 1976 ( P.L. 111-148 ); 25 USC 1601 et seq. (Services and facilities.) Participation data: In FY2009, the IHS service population was estimated at 1.9 million American Indians and Alaskan Natives. Participation data: In FY2009, benefits were paid to 315,842 veterans and 194,807 survivors. Temporary Assistance for Needy Families (CFDA\\n\\nAuthority: Statute: Title IV-A of the Social Security Act, established by the Personal Responsibility and Work Opportunity Reconciliation Act of 1996 ( P.L. 104-193 . For the TANF contingency fund, a higher state spending requirement applies (100% of the historic level). Purpose of program: To provide a minimum income for aged, blind or disabled individuals who have very limited income and assets. States may supplement the federal benefit. Form and recipient of federal assistance: Direct payments to individuals. Regulations: no formal program-specific regulations. Federal administering agency: Internal Revenue Service. Budgetary classification: Mandatory (entitlement to individuals). (This advance payment option was repealed for tax years beginning after Dec. 31, 2010, by P.L. 111-246 .) States must maintain the level of support they offered in 1980. Budgetary classification: Mandatory (open-ended entitlement to participating schools and institutions). Participation data: In FY2009, average monthly participation in the free and reduced-price components was 19.45 million children. Allows participation by territories (American Samoa, Guam, Northern Mariana Islands, and the U.S. Virgin Islands) and Indian tribes and tribal organizations. Allocation formula: State allocations are based on a formula established through regulations that reflect food and caseload costs, inflation, and \"need\" as evidenced by poverty indices. Budgetary classification: Discretionary. Budgetary classification: Mandatory (open-ended entitlement to participating centers and sponsoring organizations). Benefit/service: Food packages and nutrition education. C RS report: CRS Report RS21202, Older Americans Act: Title III Nutrition Services Program , by [author name scrubbed]. Federal administering agency: Department of Agriculture, Rural Housing Service. Form and recipient of federal assistance: Direct payments to property owners. 92-419), most recently amended and reauthorized by the Food, Conservation and Energy Act of 2008 ( P.L. Individual eligibility criteria: There are no individual eligibility criteria. FY2008: $685 million. Matching or related requirements: In general, the federal share is 50%, plus an additional federal share of no more than 30% based on the relative needs of the area where the project is located. Federal administering agency: Department of Housing and Urban Development, Office of Housing. New obligations: FY2009: $800 million. Very low-income is defined as having income no greater than 50% of area median, adjusted for family size. Section 8 Project-Based Rental Assistance (CFDA\\n\\nAuthority: Statute: Section 8 of the U.S. Housing Act of 1937, established by the Housing and Community Development Act of 1974 ( P.L. Form and recipient of federal assistance: Project-based rental assistance contracts between HUD and private property owners. HUD has not had the authority to enter into new contracts since 1983, but does have the authority to renew existing contracts when they expire. 111-22 ); 42 USC Chapter 119, Subchapter IV. ESG: Formula grants to states, metropolitan cities and urban counties. Federal administering agency: Department of Housing and Urban Development, Office of Community Planning and Development. Individual eligibility criteria: Eligible households are low-income (defined as having income at or below 80% of area median income). New obligations: FY2009: $1.149 billion (includes $500 million under the American Recovery and Reinvestment Act). Public housing authorities may choose to \"project-base\" up to 20% of their vouchers, which means the subsidy is attached to a preselected unit of housing. Individual eligibility criteria: Eligible families must be very low-income (with incomes no higher than 50% of area median income), but 75% of vouchers that become available each year must go to families that are extremely low-income (incomes no higher than 30% of area median income). In some limited circumstances, families may be low-income, with incomes as high as 80% of area median income. Neighborhood Stabilization Program-1 (no CFDA\\n\\nAuthority: Statute: Division B, Title III of the Housing and Economic Recovery Act of 2008 ( P.L. At least 25% of appropriations must be used to purchase or rehabilitate residential structures that will be used to house individuals or families with incomes no higher than 50% of area median income. Purpose of program: To support the construction and rehabilitation of affordable housing typically financed with funds from the Low-Income Housing Tax Credit (LIHTC) program. Matching or related requirements: None. Matching or related requirements: None. 89-10), most recently reauthorized by the No Child Left Behind Act ( P.L. Allocation formula: Portions of available annual funds are allocated under four different formulasBasic, Concentration, Targeted, and Education Finance Incentive Grants (EFIG)although funds are then combined and used for the same purposes by recipient LEAs. New obligations: FY2009: $21.495 billion (includes $9.936 billion under the American Recovery and Reinvestment Act). Regulations: 34 CFR 606, 607, 608, 637. Federal administering agency: Department of Education, Office of Federal Student Aid. Federal Pell Grants (CFDA\\n\\nNote: The following describes this program as it operated in FY2009; see CRS report listed below for discussion of changes made by the Health Care and Education Reconciliation Act of 2010 ( P.L. FY2008: $18.000 billion. Individual eligibility criteria: Eligible children and youth are those who lack a regular, fixed and adequate nighttime residence and include those who are sharing the housing of others due to economic hardship or a similar reason; are living in motels, hotels, trailer parks, or camping grounds due to the lack of alternative adequate accommodations; are living in emergency or transitional shelters; are abandoned in hospitals; or are awaiting foster care placement; have a primary nighttime residence that is a public or private place not designed as a regular sleeping arrangement; are living in cars, parks, public spaces, abandoned buildings, substandard housing, bus or train stations, or similar settings; or are migratory children who also qualify as homeless. 107-110 ); 20 USC 6361-6376. Early Reading First: High-quality oral language and literature rich environments, professional training based on SBR to early childhood staff in early reading development, SBR-based language and literacy activities and instructional materials, and SBR-based reading assessments. Early Reading First: Competitive grants to local educational agencies eligible for Title I-A ESEA grants, or to one or more public or private organizations acting on behalf of programs that serve preschool-age children located in an area served by a Title I-A-eligible LEA, or to a consortium of the above. Reading First allows participation by territories (Puerto Rico, American Samoa, Guam, Northern Marianas, and the Virgin Islands). Allocation formula: Reading First: Funds are allocated among states according to their proportion of children aged 5-17 whose families have income below federal poverty guidelines. Regulations: no formal program-specific regulations. 100-297 ) and most recently reauthorized by the No Child Left Behind Act ( P.L. Individual eligibility criteria: There are no individual eligibility criteria. Individual students receive assistance either by payment to school account, direct payment (usually by check), or a combination of these methods. Budgetary classification: Mandatory (entitlement to individuals). New obligations: FY2009: $115 million. Separate grants are provided for Native Americans under Title VI of the Older Americans Act. Matching or related requirements: None. Purpose of program: To develop child care programs that best suit the needs of children and parents in each state, to empower working parents to make their own decisions on the child care that best suits their family\\'s needs, to provide consumer education to help parents make informed decisions, to provide child care to parents trying to achieve independence from public assistance, and to help states implement their child care regulatory standards. Participation data: In FY2007 (the most recent year for which finaldata are available), the average monthly number of children served by the CCDF was 1.7 million.Preliminary data for FY2008 estimate the average monthly number of children served was 1.6 million. Allows participation by territories (American Samoa, Guam, the Northern Mariana Islands, and the U.S. Virgin Islands). Allows participation by territories (Puerto Rico, Guam, American Samoa and the U.S. Virgin Islands). Matching or related requirements: Adoption assistance payment expenditures are reimbursed at each state\\'s federal medical assistance percentage (FMAP), which varies according to state per capita income. Allows participation by territories (American Samoa, Guam, the Northern Mariana Islands, Puerto Rico, and the Virgin Islands). 106-169 ); 42 USC 677. Allocation formula: Funds are allocated among eligible local jurisdictions based on their number of unemployed persons relative to other eligible local jurisdictions. Federal administering agency: Department of Energy, Office of Energy Efficiency and Renewable Energy. FY2008: $291 million. Low-Income Home Energy Assistance Program (LIHEAP) (CFDA\\n\\nAuthority: Statute: Low-Income Home Energy Assistance Act, established by Title XXVI of the Omnibus Budget Reconciliation Act of 1981 ( P.L. Form and recipient of federal assistance: Formula grants to states and competitive grants to public and private nonprofit entities. (Appropriations.) Matching or related requirements: Nonfederal match of 10% required, which may be in cash or in-kind.'}],\n",
       " 'max_tokens': 4096}"
      ]
     },
     "execution_count": 38,
     "metadata": {},
     "output_type": "execute_result"
    }
   ],
   "source": [
    "openai_pipeline.call_inputs"
   ]
  },
  {
   "cell_type": "code",
   "execution_count": 39,
   "metadata": {},
   "outputs": [],
   "source": [
    "openai_pipeline.send_call()"
   ]
  },
  {
   "cell_type": "code",
   "execution_count": 40,
   "metadata": {},
   "outputs": [
    {
     "data": {
      "text/plain": [
       "'The text provides detailed information on various federal programs related to social welfare. It includes descriptions of programs such as Medicaid, Temporary Assistance for Needy Families (TANF), Supplemental Nutrition Assistance Program (SNAP), Pell Grants, Title I-A of ESEA, housing vouchers, Social Security Income (SSI), Section 8 vouchers, and more. The summary highlights the structure, eligibility criteria, funding mechanisms, and purposes of these programs aimed at providing assistance to low-income individuals and families.'"
      ]
     },
     "execution_count": 40,
     "metadata": {},
     "output_type": "execute_result"
    }
   ],
   "source": [
    "openai_pipeline.response.choices[0].message.content"
   ]
  },
  {
   "cell_type": "code",
   "execution_count": 41,
   "metadata": {},
   "outputs": [
    {
     "data": {
      "text/plain": [
       "CompletionUsage(completion_tokens=98, prompt_tokens=3918, total_tokens=4016)"
      ]
     },
     "execution_count": 41,
     "metadata": {},
     "output_type": "execute_result"
    }
   ],
   "source": [
    "openai_pipeline.response.usage"
   ]
  },
  {
   "cell_type": "code",
   "execution_count": null,
   "metadata": {},
   "outputs": [],
   "source": []
  }
 ],
 "metadata": {
  "kernelspec": {
   "display_name": "uccs-reu",
   "language": "python",
   "name": "python3"
  },
  "language_info": {
   "codemirror_mode": {
    "name": "ipython",
    "version": 3
   },
   "file_extension": ".py",
   "mimetype": "text/x-python",
   "name": "python",
   "nbconvert_exporter": "python",
   "pygments_lexer": "ipython3",
   "version": "3.12.4"
  }
 },
 "nbformat": 4,
 "nbformat_minor": 2
}
