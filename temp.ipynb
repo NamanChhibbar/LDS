{
 "cells": [
  {
   "cell_type": "code",
   "execution_count": 2,
   "metadata": {},
   "outputs": [],
   "source": [
    "import json\n",
    "import os\n",
    "import numpy as np\n",
    "import re\n",
    "import nltk\n",
    "import stanza"
   ]
  },
  {
   "cell_type": "code",
   "execution_count": 89,
   "metadata": {},
   "outputs": [
    {
     "name": "stderr",
     "output_type": "stream",
     "text": [
      "2024-06-12 15:33:39 INFO: Checking for updates to resources.json in case models have been updated.  Note: this behavior can be turned off with download_method=None or download_method=DownloadMethod.REUSE_RESOURCES\n"
     ]
    },
    {
     "data": {
      "application/vnd.jupyter.widget-view+json": {
       "model_id": "7b94fee24d1444399c2a219e5ec85899",
       "version_major": 2,
       "version_minor": 0
      },
      "text/plain": [
       "Downloading https://raw.githubusercontent.com/stanfordnlp/stanza-resources/main/resources_1.8.0.json:   0%|   …"
      ]
     },
     "metadata": {},
     "output_type": "display_data"
    },
    {
     "name": "stderr",
     "output_type": "stream",
     "text": [
      "2024-06-12 15:33:40 INFO: Downloaded file to /home/nchibbar/stanza_resources/resources.json\n",
      "2024-06-12 15:33:41 INFO: Loading these models for language: en (English):\n",
      "============================================\n",
      "| Processor    | Package                   |\n",
      "--------------------------------------------\n",
      "| tokenize     | combined                  |\n",
      "| mwt          | combined                  |\n",
      "| pos          | combined_charlm           |\n",
      "| lemma        | combined_nocharlm         |\n",
      "| constituency | ptb3-revised_charlm       |\n",
      "| depparse     | combined_charlm           |\n",
      "| sentiment    | sstplus_charlm            |\n",
      "| ner          | ontonotes-ww-multi_charlm |\n",
      "============================================\n",
      "\n",
      "2024-06-12 15:33:41 INFO: Using device: cuda\n",
      "2024-06-12 15:33:41 INFO: Loading: tokenize\n",
      "2024-06-12 15:33:42 INFO: Loading: mwt\n",
      "2024-06-12 15:33:42 INFO: Loading: pos\n",
      "2024-06-12 15:33:43 INFO: Loading: lemma\n",
      "2024-06-12 15:33:43 INFO: Loading: constituency\n",
      "2024-06-12 15:33:43 INFO: Loading: depparse\n",
      "2024-06-12 15:33:43 INFO: Loading: sentiment\n",
      "2024-06-12 15:33:44 INFO: Loading: ner\n",
      "2024-06-12 15:33:44 INFO: Done loading processors!\n"
     ]
    }
   ],
   "source": [
    "stanza_tokenizer = stanza.Pipeline(\"en\")"
   ]
  },
  {
   "cell_type": "code",
   "execution_count": 19,
   "metadata": {},
   "outputs": [
    {
     "data": {
      "text/plain": [
       "['i',\n",
       " 'me',\n",
       " 'my',\n",
       " 'myself',\n",
       " 'we',\n",
       " 'our',\n",
       " 'ours',\n",
       " 'ourselves',\n",
       " 'you',\n",
       " \"you're\",\n",
       " \"you've\",\n",
       " \"you'll\",\n",
       " \"you'd\",\n",
       " 'your',\n",
       " 'yours',\n",
       " 'yourself',\n",
       " 'yourselves',\n",
       " 'he',\n",
       " 'him',\n",
       " 'his',\n",
       " 'himself',\n",
       " 'she',\n",
       " \"she's\",\n",
       " 'her',\n",
       " 'hers',\n",
       " 'herself',\n",
       " 'it',\n",
       " \"it's\",\n",
       " 'its',\n",
       " 'itself',\n",
       " 'they',\n",
       " 'them',\n",
       " 'their',\n",
       " 'theirs',\n",
       " 'themselves',\n",
       " 'what',\n",
       " 'which',\n",
       " 'who',\n",
       " 'whom',\n",
       " 'this',\n",
       " 'that',\n",
       " \"that'll\",\n",
       " 'these',\n",
       " 'those',\n",
       " 'am',\n",
       " 'is',\n",
       " 'are',\n",
       " 'was',\n",
       " 'were',\n",
       " 'be',\n",
       " 'been',\n",
       " 'being',\n",
       " 'have',\n",
       " 'has',\n",
       " 'had',\n",
       " 'having',\n",
       " 'do',\n",
       " 'does',\n",
       " 'did',\n",
       " 'doing',\n",
       " 'a',\n",
       " 'an',\n",
       " 'the',\n",
       " 'and',\n",
       " 'but',\n",
       " 'if',\n",
       " 'or',\n",
       " 'because',\n",
       " 'as',\n",
       " 'until',\n",
       " 'while',\n",
       " 'of',\n",
       " 'at',\n",
       " 'by',\n",
       " 'for',\n",
       " 'with',\n",
       " 'about',\n",
       " 'against',\n",
       " 'between',\n",
       " 'into',\n",
       " 'through',\n",
       " 'during',\n",
       " 'before',\n",
       " 'after',\n",
       " 'above',\n",
       " 'below',\n",
       " 'to',\n",
       " 'from',\n",
       " 'up',\n",
       " 'down',\n",
       " 'in',\n",
       " 'out',\n",
       " 'on',\n",
       " 'off',\n",
       " 'over',\n",
       " 'under',\n",
       " 'again',\n",
       " 'further',\n",
       " 'then',\n",
       " 'once',\n",
       " 'here',\n",
       " 'there',\n",
       " 'when',\n",
       " 'where',\n",
       " 'why',\n",
       " 'how',\n",
       " 'all',\n",
       " 'any',\n",
       " 'both',\n",
       " 'each',\n",
       " 'few',\n",
       " 'more',\n",
       " 'most',\n",
       " 'other',\n",
       " 'some',\n",
       " 'such',\n",
       " 'no',\n",
       " 'nor',\n",
       " 'not',\n",
       " 'only',\n",
       " 'own',\n",
       " 'same',\n",
       " 'so',\n",
       " 'than',\n",
       " 'too',\n",
       " 'very',\n",
       " 's',\n",
       " 't',\n",
       " 'can',\n",
       " 'will',\n",
       " 'just',\n",
       " 'don',\n",
       " \"don't\",\n",
       " 'should',\n",
       " \"should've\",\n",
       " 'now',\n",
       " 'd',\n",
       " 'll',\n",
       " 'm',\n",
       " 'o',\n",
       " 're',\n",
       " 've',\n",
       " 'y',\n",
       " 'ain',\n",
       " 'aren',\n",
       " \"aren't\",\n",
       " 'couldn',\n",
       " \"couldn't\",\n",
       " 'didn',\n",
       " \"didn't\",\n",
       " 'doesn',\n",
       " \"doesn't\",\n",
       " 'hadn',\n",
       " \"hadn't\",\n",
       " 'hasn',\n",
       " \"hasn't\",\n",
       " 'haven',\n",
       " \"haven't\",\n",
       " 'isn',\n",
       " \"isn't\",\n",
       " 'ma',\n",
       " 'mightn',\n",
       " \"mightn't\",\n",
       " 'mustn',\n",
       " \"mustn't\",\n",
       " 'needn',\n",
       " \"needn't\",\n",
       " 'shan',\n",
       " \"shan't\",\n",
       " 'shouldn',\n",
       " \"shouldn't\",\n",
       " 'wasn',\n",
       " \"wasn't\",\n",
       " 'weren',\n",
       " \"weren't\",\n",
       " 'won',\n",
       " \"won't\",\n",
       " 'wouldn',\n",
       " \"wouldn't\"]"
      ]
     },
     "execution_count": 19,
     "metadata": {},
     "output_type": "execute_result"
    }
   ],
   "source": [
    "stopwords = nltk.corpus.stopwords.words(\"english\")\n",
    "stopwords"
   ]
  },
  {
   "cell_type": "code",
   "execution_count": 2,
   "metadata": {},
   "outputs": [],
   "source": [
    "sample_text = \"\"\"Hey there! 😊 Have you checked out the new website? Visit us at https://www.example.com or email us at info@example.com for more details. #ExcitingNews 📰\n",
    "\n",
    "The meeting is scheduled for 12:30 PM on 15th August, 2023. Don't be late! 🚀 We’ll discuss the Q3 financials, which include a profit margin of 12.5% and a YoY growth of 8%. 📊\n",
    "\n",
    "Here are the main points:\n",
    "\n",
    "Increase marketing budget by 25% 🚀\n",
    "Launch the new product line in Q4 🎉\n",
    "Expand into the APAC region 🌏\n",
    "\n",
    "To-do List:\n",
    "\n",
    " Finalize the budget proposal\n",
    " Review the Q3 report\n",
    " Prepare for the product launch event\n",
    "\n",
    "Alice said, “We need to push our limits!” while Bob replied, “Let’s ensure quality over quantity.” This debate has been ongoing for weeks now. Some say, \"Quality is key,\" but others argue, \"We need quantity to drive growth.\"\n",
    "\n",
    "Contact our support team at support@example.com or call 1-800-555-0199. For international calls, dial +1-800-555-0199.\n",
    "\n",
    "Here's a snippet of code we need to review:\n",
    "\n",
    "def hello_world():\n",
    "    print(\"Hello, World!\")\n",
    "\n",
    "Make sure to check it and ensure it’s compliant with PEP 8 standards. Also, we have some legacy code:\n",
    "\n",
    "<!DOCTYPE html>\n",
    "<html>\n",
    "<body>\n",
    "    <h1>My First Heading</h1>\n",
    "    <p>My first paragraph.</p>\n",
    "</body>\n",
    "</html>\n",
    "\n",
    "Random thoughts:\n",
    "\n",
    "I can't believe it's almost the end of the year!\n",
    "What are everyone's New Year's resolutions? 🎆\n",
    "The weather has been crazy lately, right? 🌦️\n",
    "Check out this great article: https://www.example.com/blog/awesome-article. It's packed with useful info and insights.\n",
    "\n",
    "Lorem ipsum dolor sit amet, consectetur adipiscing elit. Integer nec odio. Praesent libero. Sed cursus ante dapibus diam. Sed nisi. Nulla quis sem at nibh elementum imperdiet. Duis sagittis ipsum. Praesent mauris. Fusce nec tellus sed augue semper porta. Mauris massa.\n",
    "\n",
    "Nullam quis risus eget urna mollis ornare vel eu leo.\n",
    "Integer posuere erat a ante venenatis dapibus posuere velit aliquet.\n",
    "Special characters to consider: !@#$%^&*()_+-=[]{}|;':\",.<>/?`~\n",
    "\n",
    "Do you remember the last project's details? If not, here's a quick refresher: the budget was $500,000, and the timeline was 6 months. We faced several challenges, including supply chain issues and unexpected delays. Yet, we managed to deliver on time. Kudos to the team! 🎉\n",
    "\n",
    "By the way, here’s a fun fact: the longest recorded flight of a chicken is 13 seconds! 🐔 How cool is that?\n",
    "\n",
    "Our next team-building activity will be a hiking trip. Bring your gear and be ready for an adventure. 🌄\n",
    "\n",
    "Hiking Essentials:\n",
    "Sturdy boots 🥾\n",
    "Water bottle 🚰\n",
    "Snacks 🍫\n",
    "First-aid kit 🩹\n",
    "The goal is to reach the summit by noon. Let's make it happen, team! 💪\n",
    "\"\"\""
   ]
  },
  {
   "cell_type": "code",
   "execution_count": 85,
   "metadata": {},
   "outputs": [],
   "source": [
    "def preprocess_text(text, stop_words=None):\n",
    "\n",
    "\t# Convert non-ASCII quotes to ASCII quotes\n",
    "\ttext = re.sub(r\"‘|’\", \"'\", text)\n",
    "\ttext = re.sub(r\"“|”\", '\"', text)\n",
    "\n",
    "\t# Remove non-ASCII characters\n",
    "\ttext = re.sub(r\"[^\\x00-\\x7f]+\", \"\", text)\n",
    "\n",
    "\t# Remove emails\n",
    "\ttext = re.sub(r\"[^\\s]+@[^\\s]+\\.com\", \"\", text)\n",
    "\n",
    "\t# Remove hyperlinks\n",
    "\ttext = re.sub(r\"[^\\s]*://[^\\s]*\", \"\", text)\n",
    "\n",
    "\t# Remove hashtags\n",
    "\ttext = re.sub(r\"#[^\\s]+\", \"\", text)\n",
    "\n",
    "\t# Remove HTML tags\n",
    "\ttext = re.sub(r\"<[^\\n>]+>\", \"\", text)\n",
    "\n",
    "\t# Remove numbers\n",
    "\t# text = re.sub(r\"[+?\\d+-?]+\", \"\", text)\n",
    "\n",
    "\t# Remove stop words\n",
    "\tif stop_words:\n",
    "\t\ttext = re.sub(r\"|\".join([\n",
    "\t\t\trf\"\\s{word}[\\s.]\" for word in stop_words\n",
    "\t\t]), \" \", text)\n",
    "\n",
    "\t# Concatenating multiple spaces and tabs\n",
    "\ttext = re.sub(r\"[ \\t]{2,}\", \" \", text)\n",
    "\n",
    "\t# Removing spaces and tabs before newline\n",
    "\ttext = re.sub(r\"[ \\t]\\n\", \"\\n\", text)\n",
    "\n",
    "\t# Concatenating multiple newlines\n",
    "\ttext = re.sub(r\"\\n{3,}\", \"\\n\\n\", text)\n",
    "\n",
    "\treturn text"
   ]
  },
  {
   "cell_type": "code",
   "execution_count": 86,
   "metadata": {},
   "outputs": [
    {
     "name": "stdout",
     "output_type": "stream",
     "text": [
      "Hey there! Have you checked out the new website? Visit us at or email us at for more details.\n",
      "\n",
      "The meeting is scheduled for 12:30 PM on 15th August, 2023. Don't be late! We'll discuss the Q3 financials, which include a profit margin of 12.5% and a YoY growth of 8%.\n",
      "\n",
      "Here are the main points:\n",
      "\n",
      "Increase marketing budget by 25%\n",
      "Launch the new product line in Q4\n",
      "Expand into the APAC region\n",
      "\n",
      "To-do List:\n",
      "\n",
      " Finalize the budget proposal\n",
      " Review the Q3 report\n",
      " Prepare for the product launch event\n",
      "\n",
      "Alice said, \"We need to push our limits!\" while Bob replied, \"Let's ensure quality over quantity.\" This debate has been ongoing for weeks now. Some say, \"Quality is key,\" but others argue, \"We need quantity to drive growth.\"\n",
      "\n",
      "Contact our support team at or call 1-800-555-0199. For international calls, dial +1-800-555-0199.\n",
      "\n",
      "Here's a snippet of code we need to review:\n",
      "\n",
      "def hello_world():\n",
      " print(\"Hello, World!\")\n",
      "\n",
      "Make sure to check it and ensure it's compliant with PEP 8 standards. Also, we have some legacy code:\n",
      "\n",
      " My First Heading\n",
      " My first paragraph.\n",
      "\n",
      "Random thoughts:\n",
      "\n",
      "I can't believe it's almost the end of the year!\n",
      "What are everyone's New Year's resolutions?\n",
      "The weather has been crazy lately, right?\n",
      "Check out this great article: It's packed with useful info and insights.\n",
      "\n",
      "Lorem ipsum dolor sit amet, consectetur adipiscing elit. Integer nec odio. Praesent libero. Sed cursus ante dapibus diam. Sed nisi. Nulla quis sem at nibh elementum imperdiet. Duis sagittis ipsum. Praesent mauris. Fusce nec tellus sed augue semper porta. Mauris massa.\n",
      "\n",
      "Nullam quis risus eget urna mollis ornare vel eu leo.\n",
      "Integer posuere erat a ante venenatis dapibus posuere velit aliquet.\n",
      "Special characters to consider: !@\n",
      "\n",
      "Do you remember the last project's details? If not, here's a quick refresher: the budget was $500,000, and the timeline was 6 months. We faced several challenges, including supply chain issues and unexpected delays. Yet, we managed to deliver on time. Kudos to the team!\n",
      "\n",
      "By the way, here's a fun fact: the longest recorded flight of a chicken is 13 seconds! How cool is that?\n",
      "\n",
      "Our next team-building activity will be a hiking trip. Bring your gear and be ready for an adventure.\n",
      "\n",
      "Hiking Essentials:\n",
      "Sturdy boots\n",
      "Water bottle\n",
      "Snacks\n",
      "First-aid kit\n",
      "The goal is to reach the summit by noon. Let's make it happen, team!\n",
      "\n"
     ]
    }
   ],
   "source": [
    "preprocessed_text = preprocess_text(sample_text)\n",
    "# preprocessed_text = preprocess_text(sample_text, stop_words=stopwords)\n",
    "print(preprocessed_text)"
   ]
  },
  {
   "cell_type": "code",
   "execution_count": 87,
   "metadata": {},
   "outputs": [
    {
     "data": {
      "text/plain": [
       "['Hey there!',\n",
       " 'Have you checked out the new website?',\n",
       " 'Visit us at or email us at for more details.',\n",
       " 'The meeting is scheduled for 12:30 PM on 15th August, 2023.',\n",
       " \"Don't be late!\",\n",
       " \"We'll discuss the Q3 financials, which include a profit margin of 12.5% and a YoY growth of 8%.\",\n",
       " 'Here are the main points:\\n\\nIncrease marketing budget by 25%\\nLaunch the new product line in Q4\\nExpand into the APAC region\\n\\nTo-do List:\\n\\n Finalize the budget proposal\\n Review the Q3 report\\n Prepare for the product launch event\\n\\nAlice said, \"We need to push our limits!\"',\n",
       " 'while Bob replied, \"Let\\'s ensure quality over quantity.\"',\n",
       " 'This debate has been ongoing for weeks now.',\n",
       " 'Some say, \"Quality is key,\" but others argue, \"We need quantity to drive growth.\"',\n",
       " 'Contact our support team at or call 1-800-555-0199.',\n",
       " 'For international calls, dial +1-800-555-0199.',\n",
       " 'Here\\'s a snippet of code we need to review:\\n\\ndef hello_world():\\n print(\"Hello, World!\")',\n",
       " \"Make sure to check it and ensure it's compliant with PEP 8 standards.\",\n",
       " 'Also, we have some legacy code:\\n\\n My First Heading\\n My first paragraph.',\n",
       " \"Random thoughts:\\n\\nI can't believe it's almost the end of the year!\",\n",
       " \"What are everyone's New Year's resolutions?\",\n",
       " 'The weather has been crazy lately, right?',\n",
       " \"Check out this great article: It's packed with useful info and insights.\",\n",
       " 'Lorem ipsum dolor sit amet, consectetur adipiscing elit.',\n",
       " 'Integer nec odio.',\n",
       " 'Praesent libero.',\n",
       " 'Sed cursus ante dapibus diam.',\n",
       " 'Sed nisi.',\n",
       " 'Nulla quis sem at nibh elementum imperdiet.',\n",
       " 'Duis sagittis ipsum.',\n",
       " 'Praesent mauris.',\n",
       " 'Fusce nec tellus sed augue semper porta.',\n",
       " 'Mauris massa.',\n",
       " 'Nullam quis risus eget urna mollis ornare vel eu leo.',\n",
       " 'Integer posuere erat a ante venenatis dapibus posuere velit aliquet.',\n",
       " 'Special characters to consider: !',\n",
       " \"@\\n\\nDo you remember the last project's details?\",\n",
       " \"If not, here's a quick refresher: the budget was $500,000, and the timeline was 6 months.\",\n",
       " 'We faced several challenges, including supply chain issues and unexpected delays.',\n",
       " 'Yet, we managed to deliver on time.',\n",
       " 'Kudos to the team!',\n",
       " \"By the way, here's a fun fact: the longest recorded flight of a chicken is 13 seconds!\",\n",
       " 'How cool is that?',\n",
       " 'Our next team-building activity will be a hiking trip.',\n",
       " 'Bring your gear and be ready for an adventure.',\n",
       " 'Hiking Essentials:\\nSturdy boots\\nWater bottle\\nSnacks\\nFirst-aid kit\\nThe goal is to reach the summit by noon.',\n",
       " \"Let's make it happen, team!\"]"
      ]
     },
     "execution_count": 87,
     "metadata": {},
     "output_type": "execute_result"
    }
   ],
   "source": [
    "nltk.sent_tokenize(preprocessed_text)"
   ]
  },
  {
   "cell_type": "code",
   "execution_count": 90,
   "metadata": {},
   "outputs": [],
   "source": [
    "parsed_text = stanza_tokenizer(preprocessed_text)"
   ]
  },
  {
   "cell_type": "code",
   "execution_count": 100,
   "metadata": {},
   "outputs": [
    {
     "data": {
      "text/plain": [
       "['Hey there!',\n",
       " 'Have you checked out the new website?',\n",
       " 'Visit us at or email us at for more details.',\n",
       " 'The meeting is scheduled for 12:30 PM on 15th August, 2023.',\n",
       " \"Don't be late!\",\n",
       " \"We'll discuss the Q3 financials, which include a profit margin of 12.5% and a YoY growth of 8%.\",\n",
       " 'Here are the main points:',\n",
       " 'Increase marketing budget by 25%\\nLaunch the new product line in Q4\\nExpand into the APAC region',\n",
       " 'To-do List:',\n",
       " 'Finalize the budget proposal\\n Review the Q3 report\\n Prepare for the product launch event',\n",
       " 'Alice said, \"We need to push our limits!\" while Bob replied, \"Let\\'s ensure quality over quantity.\"',\n",
       " 'This debate has been ongoing for weeks now.',\n",
       " 'Some say, \"Quality is key,\" but others argue, \"We need quantity to drive growth.\"',\n",
       " 'Contact our support team at or call 1-800-555-0199.',\n",
       " 'For international calls, dial +1-800-555-0199.',\n",
       " \"Here's a snippet of code we need to review:\",\n",
       " 'def hello_world():\\n print(\"Hello, World!\")',\n",
       " \"Make sure to check it and ensure it's compliant with PEP 8 standards.\",\n",
       " 'Also, we have some legacy code:',\n",
       " 'My First Heading',\n",
       " 'My first paragraph.',\n",
       " 'Random thoughts:',\n",
       " \"I can't believe it's almost the end of the year!\",\n",
       " \"What are everyone's New Year's resolutions?\",\n",
       " 'The weather has been crazy lately, right?',\n",
       " \"Check out this great article: It's packed with useful info and insights.\",\n",
       " 'Lorem ipsum dolor sit amet, consectetur adipiscing elit.',\n",
       " 'Integer nec odio.',\n",
       " 'Praesent libero.',\n",
       " 'Sed cursus ante dapibus diam.',\n",
       " 'Sed nisi.',\n",
       " 'Nulla quis sem at nibh elementum imperdiet.',\n",
       " 'Duis sagittis ipsum.',\n",
       " 'Praesent mauris.',\n",
       " 'Fusce nec tellus sed augue semper porta.',\n",
       " 'Mauris massa.',\n",
       " 'Nullam quis risus eget urna mollis ornare vel eu leo.',\n",
       " 'Integer posuere erat a ante venenatis dapibus posuere velit aliquet.',\n",
       " 'Special characters to consider: !@',\n",
       " \"Do you remember the last project's details?\",\n",
       " \"If not, here's a quick refresher: the budget was $500,000, and the timeline was 6 months.\",\n",
       " 'We faced several challenges, including supply chain issues and unexpected delays.',\n",
       " 'Yet, we managed to deliver on time.',\n",
       " 'Kudos to the team!',\n",
       " \"By the way, here's a fun fact: the longest recorded flight of a chicken is 13 seconds!\",\n",
       " 'How cool is that?',\n",
       " 'Our next team-building activity will be a hiking trip.',\n",
       " 'Bring your gear and be ready for an adventure.',\n",
       " 'Hiking Essentials:\\nSturdy boots\\nWater bottle\\nSnacks\\nFirst-aid kit',\n",
       " 'The goal is to reach the summit by noon.',\n",
       " \"Let's make it happen, team!\"]"
      ]
     },
     "execution_count": 100,
     "metadata": {},
     "output_type": "execute_result"
    }
   ],
   "source": [
    "[sentence.text for sentence in parsed_text.sentences]"
   ]
  },
  {
   "cell_type": "markdown",
   "metadata": {},
   "source": [
    "## gov-report"
   ]
  },
  {
   "cell_type": "markdown",
   "metadata": {},
   "source": [
    "### crs"
   ]
  },
  {
   "cell_type": "code",
   "execution_count": 27,
   "metadata": {},
   "outputs": [
    {
     "data": {
      "text/plain": [
       "7238"
      ]
     },
     "execution_count": 27,
     "metadata": {},
     "output_type": "execute_result"
    }
   ],
   "source": [
    "data_dir = \"/home/nchibbar/Data/GovReport\"\n",
    "all_files = os.listdir(data_dir)\n",
    "len(all_files)"
   ]
  },
  {
   "cell_type": "code",
   "execution_count": 4,
   "metadata": {},
   "outputs": [],
   "source": [
    "file = all_files[1]\n",
    "file = f\"{data_dir}/{file}\""
   ]
  },
  {
   "cell_type": "code",
   "execution_count": 5,
   "metadata": {},
   "outputs": [
    {
     "data": {
      "text/plain": [
       "dict_keys(['id', 'title', 'released_date', 'summary', 'reports'])"
      ]
     },
     "execution_count": 5,
     "metadata": {},
     "output_type": "execute_result"
    }
   ],
   "source": [
    "with open(file) as fp:\n",
    "\tdata = json.load(fp)\n",
    "\n",
    "data.keys()"
   ]
  },
  {
   "cell_type": "code",
   "execution_count": 16,
   "metadata": {},
   "outputs": [
    {
     "data": {
      "text/plain": [
       "dict_keys(['section_title', 'paragraphs', 'subsections'])"
      ]
     },
     "execution_count": 16,
     "metadata": {},
     "output_type": "execute_result"
    }
   ],
   "source": [
    "data[\"reports\"][\"subsections\"][0].keys()"
   ]
  },
  {
   "cell_type": "code",
   "execution_count": 7,
   "metadata": {},
   "outputs": [],
   "source": [
    "count_words = lambda text_list: len(\" \".join(text_list).split())"
   ]
  },
  {
   "cell_type": "code",
   "execution_count": 14,
   "metadata": {},
   "outputs": [],
   "source": [
    "def parse_subsections(subsection):\n",
    "\twords = subsection[\"paragraphs\"]\n",
    "\tfor sub in subsection[\"subsections\"]:\n",
    "\t\twords = f\"{words} {parse_subsections(sub)}\"\n",
    "\treturn words"
   ]
  },
  {
   "cell_type": "code",
   "execution_count": 15,
   "metadata": {},
   "outputs": [
    {
     "data": {
      "text/plain": [
       "12474"
      ]
     },
     "execution_count": 15,
     "metadata": {},
     "output_type": "execute_result"
    }
   ],
   "source": [
    "parse_subsections(data[\"reports\"])"
   ]
  },
  {
   "cell_type": "code",
   "execution_count": 24,
   "metadata": {},
   "outputs": [
    {
     "data": {
      "text/plain": [
       "(7564.149212489638, 451.45537441282124)"
      ]
     },
     "execution_count": 24,
     "metadata": {},
     "output_type": "execute_result"
    }
   ],
   "source": [
    "avg_words, avg_summary_words = 0, 0\n",
    "num_files = len(all_files)\n",
    "\n",
    "for file in all_files:\n",
    "\twith open(f\"{data_dir}/{file}\") as fp:\n",
    "\t\tdata = json.load(fp)\n",
    "\tavg_words += parse_subsections(data[\"reports\"])\t\n",
    "\tavg_summary_words += count_words(data[\"summary\"])\n",
    "\n",
    "avg_words / num_files, avg_summary_words / num_files"
   ]
  },
  {
   "cell_type": "markdown",
   "metadata": {},
   "source": [
    "### gao"
   ]
  },
  {
   "cell_type": "code",
   "execution_count": 28,
   "metadata": {},
   "outputs": [
    {
     "data": {
      "text/plain": [
       "12228"
      ]
     },
     "execution_count": 28,
     "metadata": {},
     "output_type": "execute_result"
    }
   ],
   "source": [
    "data_dir = \"/Users/naman/Workspace/Data/UCCS-REU/gov-report/gao\"\n",
    "all_files = os.listdir(data_dir)\n",
    "len(all_files)"
   ]
  },
  {
   "cell_type": "code",
   "execution_count": 59,
   "metadata": {},
   "outputs": [
    {
     "data": {
      "text/plain": [
       "dict_keys(['id', 'url', 'title', 'published_date', 'released_date', 'highlight', 'report', 'fastfact'])"
      ]
     },
     "execution_count": 59,
     "metadata": {},
     "output_type": "execute_result"
    }
   ],
   "source": [
    "file = all_files[0]\n",
    "\n",
    "with open(f\"{data_dir}/{file}\") as fp:\n",
    "\tdata = json.load(fp)\n",
    "\n",
    "data.keys()"
   ]
  },
  {
   "cell_type": "code",
   "execution_count": 55,
   "metadata": {},
   "outputs": [
    {
     "data": {
      "text/plain": [
       "dict_keys(['section_title', 'paragraphs', 'subsections'])"
      ]
     },
     "execution_count": 55,
     "metadata": {},
     "output_type": "execute_result"
    }
   ],
   "source": [
    "data[\"report\"][0].keys()"
   ]
  },
  {
   "cell_type": "code",
   "execution_count": 60,
   "metadata": {},
   "outputs": [
    {
     "data": {
      "text/plain": [
       "9527"
      ]
     },
     "execution_count": 60,
     "metadata": {},
     "output_type": "execute_result"
    }
   ],
   "source": [
    "words = 0\n",
    "for report in data[\"report\"]:\n",
    "\twords += parse_subsections(report)\n",
    "words"
   ]
  },
  {
   "cell_type": "code",
   "execution_count": 56,
   "metadata": {},
   "outputs": [
    {
     "data": {
      "text/plain": [
       "8781"
      ]
     },
     "execution_count": 56,
     "metadata": {},
     "output_type": "execute_result"
    }
   ],
   "source": [
    "parse_subsections(data[\"report\"][0])"
   ]
  },
  {
   "cell_type": "code",
   "execution_count": 57,
   "metadata": {},
   "outputs": [
    {
     "data": {
      "text/plain": [
       "8521.906771344455"
      ]
     },
     "execution_count": 57,
     "metadata": {},
     "output_type": "execute_result"
    }
   ],
   "source": [
    "words = 0\n",
    "for file in all_files:\n",
    "\twith open(f\"{data_dir}/{file}\") as fp:\n",
    "\t\tdata = json.load(fp)\n",
    "\tfor report in data[\"report\"]:\n",
    "\t\twords += parse_subsections(report)\n",
    "words / len(all_files)"
   ]
  },
  {
   "cell_type": "code",
   "execution_count": 74,
   "metadata": {},
   "outputs": [
    {
     "name": "stdout",
     "output_type": "stream",
     "text": [
      "['## My ideas\\n', '\\n', 'Generating multiple words at a time in AR transformers to improve efficiency\\n', '\\n', 'Sentence level attention mechanism for summarizing long inputs\\n', '\\n', 'Compression of sentences (maybe by using discourse theory) and extraction for summarization\\n', '\\n', 'Summarize iteratively evaluating and improving each summary\\n', '\\n', 'Extraction based on topic words\\n', '\\n', 'QA with long input contexts by uniformly sampling sentences or phrases\\n', '\\n', 'Employ speed reading techniques\\n', 'Skimming: Quickly scan over the whole text skipping some parts\\n', 'Chunking: Break text into chunks and go over each one individually\\n', 'Pacing: Read many words at once\\n', 'Eliminating: Ignore redundant parts of text while reading\\n', '\\n', 'Summarizing books based on chapter names or title\\n', '\\n', 'Use 1D convolution to reduce number of word embeddings\\n', '\\n', 'Truncating from the middle instead of extremeties\\n', '\\n', '\\n', \"## Papers' ideas\\n\", '\\n', 'Long and short term memory in form of natural language for summarizing long inputs using prompt engineering\\n', '\\n', 'Use an LLM (chatgpt) to summarize and evaluate itslef using promp engineering\\n', '\\n', 'Summarizing multiple documents by encoding and clustering similar documents\\n', '\\n', '\\n', \"## Melkamu's papers (left out)\\n\", '2, 3, 6\\n']\n"
     ]
    }
   ],
   "source": [
    "with open(\"ideas.txt\") as fp:\n",
    "\tfile_iter = iter(fp.readlines())"
   ]
  },
  {
   "cell_type": "code",
   "execution_count": 5,
   "metadata": {},
   "outputs": [
    {
     "data": {
      "text/plain": [
       "'hey. watch this!'"
      ]
     },
     "execution_count": 5,
     "metadata": {},
     "output_type": "execute_result"
    }
   ],
   "source": [
    "re.sub(r\"\\sthe([\\s.])\", r\"\\1\", \"hey the. watch the this!\")"
   ]
  },
  {
   "cell_type": "code",
   "execution_count": null,
   "metadata": {},
   "outputs": [],
   "source": []
  }
 ],
 "metadata": {
  "kernelspec": {
   "display_name": "uccs-reu",
   "language": "python",
   "name": "python3"
  },
  "language_info": {
   "codemirror_mode": {
    "name": "ipython",
    "version": 3
   },
   "file_extension": ".py",
   "mimetype": "text/x-python",
   "name": "python",
   "nbconvert_exporter": "python",
   "pygments_lexer": "ipython3",
   "version": "3.10.12"
  }
 },
 "nbformat": 4,
 "nbformat_minor": 2
}
