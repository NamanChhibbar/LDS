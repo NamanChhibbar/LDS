{
 "cells": [
  {
   "cell_type": "code",
   "execution_count": 1,
   "metadata": {},
   "outputs": [],
   "source": [
    "import json\n",
    "import os\n",
    "import numpy as np\n",
    "import re\n",
    "import nltk\n",
    "import stanza\n",
    "import torch\n",
    "from transformers import BartTokenizer, BartForConditionalGeneration\n",
    "import inspect\n",
    "\n",
    "from utils import *"
   ]
  },
  {
   "cell_type": "code",
   "execution_count": 19,
   "metadata": {},
   "outputs": [
    {
     "data": {
      "text/plain": [
       "['i',\n",
       " 'me',\n",
       " 'my',\n",
       " 'myself',\n",
       " 'we',\n",
       " 'our',\n",
       " 'ours',\n",
       " 'ourselves',\n",
       " 'you',\n",
       " \"you're\",\n",
       " \"you've\",\n",
       " \"you'll\",\n",
       " \"you'd\",\n",
       " 'your',\n",
       " 'yours',\n",
       " 'yourself',\n",
       " 'yourselves',\n",
       " 'he',\n",
       " 'him',\n",
       " 'his',\n",
       " 'himself',\n",
       " 'she',\n",
       " \"she's\",\n",
       " 'her',\n",
       " 'hers',\n",
       " 'herself',\n",
       " 'it',\n",
       " \"it's\",\n",
       " 'its',\n",
       " 'itself',\n",
       " 'they',\n",
       " 'them',\n",
       " 'their',\n",
       " 'theirs',\n",
       " 'themselves',\n",
       " 'what',\n",
       " 'which',\n",
       " 'who',\n",
       " 'whom',\n",
       " 'this',\n",
       " 'that',\n",
       " \"that'll\",\n",
       " 'these',\n",
       " 'those',\n",
       " 'am',\n",
       " 'is',\n",
       " 'are',\n",
       " 'was',\n",
       " 'were',\n",
       " 'be',\n",
       " 'been',\n",
       " 'being',\n",
       " 'have',\n",
       " 'has',\n",
       " 'had',\n",
       " 'having',\n",
       " 'do',\n",
       " 'does',\n",
       " 'did',\n",
       " 'doing',\n",
       " 'a',\n",
       " 'an',\n",
       " 'the',\n",
       " 'and',\n",
       " 'but',\n",
       " 'if',\n",
       " 'or',\n",
       " 'because',\n",
       " 'as',\n",
       " 'until',\n",
       " 'while',\n",
       " 'of',\n",
       " 'at',\n",
       " 'by',\n",
       " 'for',\n",
       " 'with',\n",
       " 'about',\n",
       " 'against',\n",
       " 'between',\n",
       " 'into',\n",
       " 'through',\n",
       " 'during',\n",
       " 'before',\n",
       " 'after',\n",
       " 'above',\n",
       " 'below',\n",
       " 'to',\n",
       " 'from',\n",
       " 'up',\n",
       " 'down',\n",
       " 'in',\n",
       " 'out',\n",
       " 'on',\n",
       " 'off',\n",
       " 'over',\n",
       " 'under',\n",
       " 'again',\n",
       " 'further',\n",
       " 'then',\n",
       " 'once',\n",
       " 'here',\n",
       " 'there',\n",
       " 'when',\n",
       " 'where',\n",
       " 'why',\n",
       " 'how',\n",
       " 'all',\n",
       " 'any',\n",
       " 'both',\n",
       " 'each',\n",
       " 'few',\n",
       " 'more',\n",
       " 'most',\n",
       " 'other',\n",
       " 'some',\n",
       " 'such',\n",
       " 'no',\n",
       " 'nor',\n",
       " 'not',\n",
       " 'only',\n",
       " 'own',\n",
       " 'same',\n",
       " 'so',\n",
       " 'than',\n",
       " 'too',\n",
       " 'very',\n",
       " 's',\n",
       " 't',\n",
       " 'can',\n",
       " 'will',\n",
       " 'just',\n",
       " 'don',\n",
       " \"don't\",\n",
       " 'should',\n",
       " \"should've\",\n",
       " 'now',\n",
       " 'd',\n",
       " 'll',\n",
       " 'm',\n",
       " 'o',\n",
       " 're',\n",
       " 've',\n",
       " 'y',\n",
       " 'ain',\n",
       " 'aren',\n",
       " \"aren't\",\n",
       " 'couldn',\n",
       " \"couldn't\",\n",
       " 'didn',\n",
       " \"didn't\",\n",
       " 'doesn',\n",
       " \"doesn't\",\n",
       " 'hadn',\n",
       " \"hadn't\",\n",
       " 'hasn',\n",
       " \"hasn't\",\n",
       " 'haven',\n",
       " \"haven't\",\n",
       " 'isn',\n",
       " \"isn't\",\n",
       " 'ma',\n",
       " 'mightn',\n",
       " \"mightn't\",\n",
       " 'mustn',\n",
       " \"mustn't\",\n",
       " 'needn',\n",
       " \"needn't\",\n",
       " 'shan',\n",
       " \"shan't\",\n",
       " 'shouldn',\n",
       " \"shouldn't\",\n",
       " 'wasn',\n",
       " \"wasn't\",\n",
       " 'weren',\n",
       " \"weren't\",\n",
       " 'won',\n",
       " \"won't\",\n",
       " 'wouldn',\n",
       " \"wouldn't\"]"
      ]
     },
     "execution_count": 19,
     "metadata": {},
     "output_type": "execute_result"
    }
   ],
   "source": [
    "stopwords = nltk.corpus.stopwords.words(\"english\")\n",
    "stopwords"
   ]
  },
  {
   "cell_type": "code",
   "execution_count": 2,
   "metadata": {},
   "outputs": [],
   "source": [
    "sample_text = \"\"\"Hey there! 😊 Have you checked out the new website? Visit us at https://www.example.com or email us at info@example.com for more details. #ExcitingNews 📰\n",
    "\n",
    "The meeting is scheduled for 12:30 PM on 15th August, 2023. Don't be late! 🚀 We’ll discuss the Q3 financials, which include a profit margin of 12.5% and a YoY growth of 8%. 📊\n",
    "\n",
    "Here are the main points:\n",
    "\n",
    "Increase marketing budget by 25% 🚀\n",
    "Launch the new product line in Q4 🎉\n",
    "Expand into the APAC region 🌏\n",
    "\n",
    "To-do List:\n",
    "\n",
    " Finalize the budget proposal\n",
    " Review the Q3 report\n",
    " Prepare for the product launch event\n",
    "\n",
    "Alice said, “We need to push our limits!” while Bob replied, “Let’s ensure quality over quantity.” This debate has been ongoing for weeks now. Some say, \"Quality is key,\" but others argue, \"We need quantity to drive growth.\"\n",
    "\n",
    "Contact our support team at support@example.com or call 1-800-555-0199. For international calls, dial +1-800-555-0199.\n",
    "\n",
    "Here's a snippet of code we need to review:\n",
    "\n",
    "def hello_world():\n",
    "    print(\"Hello, World!\")\n",
    "\n",
    "Make sure to check it and ensure it’s compliant with PEP 8 standards. Also, we have some legacy code:\n",
    "\n",
    "<!DOCTYPE html>\n",
    "<html>\n",
    "<body>\n",
    "    <h1>My First Heading</h1>\n",
    "    <p>My first paragraph.</p>\n",
    "</body>\n",
    "</html>\n",
    "\n",
    "Random thoughts:\n",
    "\n",
    "I can't believe it's almost the end of the year!\n",
    "What are everyone's New Year's resolutions? 🎆\n",
    "The weather has been crazy lately, right? 🌦️\n",
    "Check out this great article: https://www.example.com/blog/awesome-article. It's packed with useful info and insights.\n",
    "\n",
    "Lorem ipsum dolor sit amet, consectetur adipiscing elit. Integer nec odio. Praesent libero. Sed cursus ante dapibus diam. Sed nisi. Nulla quis sem at nibh elementum imperdiet. Duis sagittis ipsum. Praesent mauris. Fusce nec tellus sed augue semper porta. Mauris massa.\n",
    "\n",
    "Nullam quis risus eget urna mollis ornare vel eu leo.\n",
    "Integer posuere erat a ante venenatis dapibus posuere velit aliquet.\n",
    "Special characters to consider: !@#$%^&*()_+-=[]{}|;':\",.<>/?`~\n",
    "\n",
    "Do you remember the last project's details? If not, here's a quick refresher: the budget was $500,000, and the timeline was 6 months. We faced several challenges, including supply chain issues and unexpected delays. Yet, we managed to deliver on time. Kudos to the team! 🎉\n",
    "\n",
    "By the way, here’s a fun fact: the longest recorded flight of a chicken is 13 seconds! 🐔 How cool is that?\n",
    "\n",
    "Our next team-building activity will be a hiking trip. Bring your gear and be ready for an adventure. 🌄\n",
    "\n",
    "Hiking Essentials:\n",
    "Sturdy boots 🥾\n",
    "Water bottle 🚰\n",
    "Snacks 🍫\n",
    "First-aid kit 🩹\n",
    "The goal is to reach the summit by noon. Let's make it happen, team! 💪\n",
    "\"\"\""
   ]
  },
  {
   "cell_type": "code",
   "execution_count": 86,
   "metadata": {},
   "outputs": [
    {
     "name": "stdout",
     "output_type": "stream",
     "text": [
      "Hey there! Have you checked out the new website? Visit us at or email us at for more details.\n",
      "\n",
      "The meeting is scheduled for 12:30 PM on 15th August, 2023. Don't be late! We'll discuss the Q3 financials, which include a profit margin of 12.5% and a YoY growth of 8%.\n",
      "\n",
      "Here are the main points:\n",
      "\n",
      "Increase marketing budget by 25%\n",
      "Launch the new product line in Q4\n",
      "Expand into the APAC region\n",
      "\n",
      "To-do List:\n",
      "\n",
      " Finalize the budget proposal\n",
      " Review the Q3 report\n",
      " Prepare for the product launch event\n",
      "\n",
      "Alice said, \"We need to push our limits!\" while Bob replied, \"Let's ensure quality over quantity.\" This debate has been ongoing for weeks now. Some say, \"Quality is key,\" but others argue, \"We need quantity to drive growth.\"\n",
      "\n",
      "Contact our support team at or call 1-800-555-0199. For international calls, dial +1-800-555-0199.\n",
      "\n",
      "Here's a snippet of code we need to review:\n",
      "\n",
      "def hello_world():\n",
      " print(\"Hello, World!\")\n",
      "\n",
      "Make sure to check it and ensure it's compliant with PEP 8 standards. Also, we have some legacy code:\n",
      "\n",
      " My First Heading\n",
      " My first paragraph.\n",
      "\n",
      "Random thoughts:\n",
      "\n",
      "I can't believe it's almost the end of the year!\n",
      "What are everyone's New Year's resolutions?\n",
      "The weather has been crazy lately, right?\n",
      "Check out this great article: It's packed with useful info and insights.\n",
      "\n",
      "Lorem ipsum dolor sit amet, consectetur adipiscing elit. Integer nec odio. Praesent libero. Sed cursus ante dapibus diam. Sed nisi. Nulla quis sem at nibh elementum imperdiet. Duis sagittis ipsum. Praesent mauris. Fusce nec tellus sed augue semper porta. Mauris massa.\n",
      "\n",
      "Nullam quis risus eget urna mollis ornare vel eu leo.\n",
      "Integer posuere erat a ante venenatis dapibus posuere velit aliquet.\n",
      "Special characters to consider: !@\n",
      "\n",
      "Do you remember the last project's details? If not, here's a quick refresher: the budget was $500,000, and the timeline was 6 months. We faced several challenges, including supply chain issues and unexpected delays. Yet, we managed to deliver on time. Kudos to the team!\n",
      "\n",
      "By the way, here's a fun fact: the longest recorded flight of a chicken is 13 seconds! How cool is that?\n",
      "\n",
      "Our next team-building activity will be a hiking trip. Bring your gear and be ready for an adventure.\n",
      "\n",
      "Hiking Essentials:\n",
      "Sturdy boots\n",
      "Water bottle\n",
      "Snacks\n",
      "First-aid kit\n",
      "The goal is to reach the summit by noon. Let's make it happen, team!\n",
      "\n"
     ]
    }
   ],
   "source": [
    "preprocessed_text = preprocessor(sample_text)\n",
    "# preprocessed_text = preprocessor(sample_text, stop_words=stopwords)\n",
    "print(preprocessed_text)"
   ]
  },
  {
   "cell_type": "code",
   "execution_count": 100,
   "metadata": {},
   "outputs": [
    {
     "data": {
      "text/plain": [
       "['Hey there!',\n",
       " 'Have you checked out the new website?',\n",
       " 'Visit us at or email us at for more details.',\n",
       " 'The meeting is scheduled for 12:30 PM on 15th August, 2023.',\n",
       " \"Don't be late!\",\n",
       " \"We'll discuss the Q3 financials, which include a profit margin of 12.5% and a YoY growth of 8%.\",\n",
       " 'Here are the main points:',\n",
       " 'Increase marketing budget by 25%\\nLaunch the new product line in Q4\\nExpand into the APAC region',\n",
       " 'To-do List:',\n",
       " 'Finalize the budget proposal\\n Review the Q3 report\\n Prepare for the product launch event',\n",
       " 'Alice said, \"We need to push our limits!\" while Bob replied, \"Let\\'s ensure quality over quantity.\"',\n",
       " 'This debate has been ongoing for weeks now.',\n",
       " 'Some say, \"Quality is key,\" but others argue, \"We need quantity to drive growth.\"',\n",
       " 'Contact our support team at or call 1-800-555-0199.',\n",
       " 'For international calls, dial +1-800-555-0199.',\n",
       " \"Here's a snippet of code we need to review:\",\n",
       " 'def hello_world():\\n print(\"Hello, World!\")',\n",
       " \"Make sure to check it and ensure it's compliant with PEP 8 standards.\",\n",
       " 'Also, we have some legacy code:',\n",
       " 'My First Heading',\n",
       " 'My first paragraph.',\n",
       " 'Random thoughts:',\n",
       " \"I can't believe it's almost the end of the year!\",\n",
       " \"What are everyone's New Year's resolutions?\",\n",
       " 'The weather has been crazy lately, right?',\n",
       " \"Check out this great article: It's packed with useful info and insights.\",\n",
       " 'Lorem ipsum dolor sit amet, consectetur adipiscing elit.',\n",
       " 'Integer nec odio.',\n",
       " 'Praesent libero.',\n",
       " 'Sed cursus ante dapibus diam.',\n",
       " 'Sed nisi.',\n",
       " 'Nulla quis sem at nibh elementum imperdiet.',\n",
       " 'Duis sagittis ipsum.',\n",
       " 'Praesent mauris.',\n",
       " 'Fusce nec tellus sed augue semper porta.',\n",
       " 'Mauris massa.',\n",
       " 'Nullam quis risus eget urna mollis ornare vel eu leo.',\n",
       " 'Integer posuere erat a ante venenatis dapibus posuere velit aliquet.',\n",
       " 'Special characters to consider: !@',\n",
       " \"Do you remember the last project's details?\",\n",
       " \"If not, here's a quick refresher: the budget was $500,000, and the timeline was 6 months.\",\n",
       " 'We faced several challenges, including supply chain issues and unexpected delays.',\n",
       " 'Yet, we managed to deliver on time.',\n",
       " 'Kudos to the team!',\n",
       " \"By the way, here's a fun fact: the longest recorded flight of a chicken is 13 seconds!\",\n",
       " 'How cool is that?',\n",
       " 'Our next team-building activity will be a hiking trip.',\n",
       " 'Bring your gear and be ready for an adventure.',\n",
       " 'Hiking Essentials:\\nSturdy boots\\nWater bottle\\nSnacks\\nFirst-aid kit',\n",
       " 'The goal is to reach the summit by noon.',\n",
       " \"Let's make it happen, team!\"]"
      ]
     },
     "execution_count": 100,
     "metadata": {},
     "output_type": "execute_result"
    }
   ],
   "source": [
    "stanza_tokenizer = stanza.Pipeline(\"en\")\n",
    "parsed_text = stanza_tokenizer(preprocessed_text)\n",
    "[sentence.text for sentence in parsed_text.sentences]"
   ]
  },
  {
   "cell_type": "markdown",
   "metadata": {},
   "source": [
    "## gov-report"
   ]
  },
  {
   "cell_type": "code",
   "execution_count": 3,
   "metadata": {},
   "outputs": [
    {
     "name": "stdout",
     "output_type": "stream",
     "text": [
      "crs files: 7238, gao files: 12228\n"
     ]
    }
   ],
   "source": [
    "data_dir = \"/Users/naman/Workspace/Data/UCCS-REU\"\n",
    "\n",
    "crs_files = os.listdir(crs_dir := f\"{data_dir}/GovReport/crs\")\n",
    "gao_files = os.listdir(gao_dir := f\"{data_dir}/GovReport/gao\")\n",
    "\n",
    "print(f\"crs files: {len(crs_files)}, gao files: {len(gao_files)}\")\n",
    "\n",
    "crs_out = f\"{data_dir}/GovReport/crs-processed\"\n",
    "gao_out = f\"{data_dir}/GovReport/gao-processed\"\n",
    "\n",
    "preprocessor = TextPreprocessor()"
   ]
  },
  {
   "cell_type": "markdown",
   "metadata": {},
   "source": [
    "### Processing text"
   ]
  },
  {
   "cell_type": "code",
   "execution_count": 28,
   "metadata": {},
   "outputs": [],
   "source": [
    "for file in crs_files:\n",
    "\twith open(f\"{crs_dir}/{file}\") as fp:\n",
    "\t\tdata = json.load(fp)\n",
    "\ttext = combine_subsections([data[\"reports\"]])\n",
    "\ttext = preprocessor(text)\n",
    "\tsummary = \"\\n\".join(data[\"summary\"])\n",
    "\tsummary = preprocessor(summary)\n",
    "\twith open(f\"{crs_out}/{file}\", \"w\") as fp:\n",
    "\t\tjson.dump({\n",
    "\t\t\t\"text\": text,\n",
    "\t\t\t\"summary\": summary\n",
    "\t\t}, fp)"
   ]
  },
  {
   "cell_type": "code",
   "execution_count": 34,
   "metadata": {},
   "outputs": [
    {
     "name": "stdout",
     "output_type": "stream",
     "text": [
      "[]\n"
     ]
    }
   ],
   "source": [
    "for file in gao_files:\n",
    "\twith open(f\"{gao_dir}/{file}\") as fp:\n",
    "\t\tdata = json.load(fp)\n",
    "\ttext = combine_subsections(data[\"report\"])\n",
    "\ttext = preprocessor(text)\n",
    "\tprint(data[\"highlight\"])\n",
    "\tsummary = \"\\n\".join(data[\"highlight\"])\n",
    "\tsummary = preprocessor(summary)\n",
    "\twith open(f\"{gao_out}/{file}\", \"w\") as fp:\n",
    "\t\tjson.dump({\n",
    "\t\t\t\"text\": text,\n",
    "\t\t\t\"summary\": summary\n",
    "\t\t}, fp)"
   ]
  },
  {
   "cell_type": "markdown",
   "metadata": {},
   "source": [
    "---"
   ]
  },
  {
   "cell_type": "code",
   "execution_count": 154,
   "metadata": {},
   "outputs": [],
   "source": [
    "tokenizer_dir = f\"{data_dir}/Models/BART/tokenizer\"\n",
    "model_dir = f\"{data_dir}/Models/BART/model\"\n",
    "checkpoint = \"facebook/bart-large-cnn\"\n",
    "\n",
    "tokenizer = BartTokenizer.from_pretrained(tokenizer_dir)\n",
    "model = BartForConditionalGeneration.from_pretrained(model_dir)"
   ]
  },
  {
   "cell_type": "code",
   "execution_count": 60,
   "metadata": {},
   "outputs": [
    {
     "name": "stdout",
     "output_type": "stream",
     "text": [
      "(text: Union[str, List[str], List[List[str]]] = None, text_pair: Union[str, List[str], List[List[str]], NoneType] = None, text_target: Union[str, List[str], List[List[str]]] = None, text_pair_target: Union[str, List[str], List[List[str]], NoneType] = None, add_special_tokens: bool = True, padding: Union[bool, str, transformers.utils.generic.PaddingStrategy] = False, truncation: Union[bool, str, transformers.tokenization_utils_base.TruncationStrategy] = None, max_length: Optional[int] = None, stride: int = 0, is_split_into_words: bool = False, pad_to_multiple_of: Optional[int] = None, return_tensors: Union[str, transformers.utils.generic.TensorType, NoneType] = None, return_token_type_ids: Optional[bool] = None, return_attention_mask: Optional[bool] = None, return_overflowing_tokens: bool = False, return_special_tokens_mask: bool = False, return_offsets_mapping: bool = False, return_length: bool = False, verbose: bool = True, **kwargs) -> transformers.tokenization_utils_base.BatchEncoding\n"
     ]
    }
   ],
   "source": [
    "print(inspect.signature(tokenizer))"
   ]
  },
  {
   "cell_type": "code",
   "execution_count": 4,
   "metadata": {},
   "outputs": [
    {
     "data": {
      "text/plain": [
       "(8357, 479)"
      ]
     },
     "execution_count": 4,
     "metadata": {},
     "output_type": "execute_result"
    }
   ],
   "source": [
    "file = f\"{crs_out}/{crs_files[0]}\"\n",
    "\n",
    "with open(file) as fp:\n",
    "\tdata = json.load(fp)\n",
    "count_words(data[\"text\"]), count_words(data[\"summary\"])"
   ]
  },
  {
   "cell_type": "code",
   "execution_count": 6,
   "metadata": {},
   "outputs": [
    {
     "data": {
      "text/plain": [
       "torch.Size([1, 10740])"
      ]
     },
     "execution_count": 6,
     "metadata": {},
     "output_type": "execute_result"
    }
   ],
   "source": [
    "inputs = tokenizer([data[\"text\"]], return_tensors=\"pt\")\n",
    "inputs[\"input_ids\"].shape"
   ]
  },
  {
   "cell_type": "code",
   "execution_count": 125,
   "metadata": {},
   "outputs": [
    {
     "data": {
      "text/plain": [
       "1024"
      ]
     },
     "execution_count": 125,
     "metadata": {},
     "output_type": "execute_result"
    }
   ],
   "source": [
    "context_size, _ = max_lengths(model)\n",
    "context_size"
   ]
  },
  {
   "cell_type": "code",
   "execution_count": 24,
   "metadata": {},
   "outputs": [
    {
     "data": {
      "text/plain": [
       "torch.Size([861])"
      ]
     },
     "execution_count": 24,
     "metadata": {},
     "output_type": "execute_result"
    }
   ],
   "source": [
    "model_input = pick_sents(data[\"text\"], nltk.sent_tokenize, tokenizer, context_size)\n",
    "model_input.shape"
   ]
  },
  {
   "cell_type": "code",
   "execution_count": 120,
   "metadata": {},
   "outputs": [
    {
     "data": {
      "text/plain": [
       "tensor([[    2,     0,   133,  1783,    21,  1887,     7,  2097,  1520,    31,\n",
       "          7580,    11, 21779,  1713,     4,    20,  1783,    21,  1595,    11,\n",
       "             5,  3874,     9,     5,   613,  1486,     9,  3010,    12, 27418,\n",
       "             4,    20,  1760,    21,  1595,    30,     5,   121,     4,   104,\n",
       "             4,  1148,    11,   494,  2266,     4,    85,    21,  1595,    19,\n",
       "             5,   323,     9,     5,   446,     9,  7395,     8,     5,  1112,\n",
       "             4,     2]])"
      ]
     },
     "execution_count": 120,
     "metadata": {},
     "output_type": "execute_result"
    }
   ],
   "source": [
    "output = model.generate(model_input[None, :], max_length=500)\n",
    "output"
   ]
  },
  {
   "cell_type": "code",
   "execution_count": 123,
   "metadata": {},
   "outputs": [
    {
     "data": {
      "text/plain": [
       "'</s><s>The Act was designed to prevent banks from engaging in speculative activities. The Act was passed in the wake of the financial crisis of 2007-2008. The act was passed by the U.S. Congress in March 2008. It was passed with the support of the House of Representatives and the Senate.</s>'"
      ]
     },
     "execution_count": 123,
     "metadata": {},
     "output_type": "execute_result"
    }
   ],
   "source": [
    "tokenizer.decode(output[0])"
   ]
  },
  {
   "cell_type": "code",
   "execution_count": 124,
   "metadata": {},
   "outputs": [
    {
     "data": {
      "text/plain": [
       "'The phrase \"Glass-Steagall\" generally refers to the separation of commercial banking from investment banking. Congress effected a separation of commercial and investment banking through four sections of the Banking Act of 1933Sections 16, 20, 21, and 32. These four statutory provisions are commonly referred to as the Glass-Steagall Act.\\nKey Takeaways of This Report\\nThe Glass-Steagall debate is not centered on prohibiting risky financial services; rather, the debate is about whether to permit inherently risky commercial and investment banking activities to be conducted within a single firmspecifically within firms holding federally insured deposits. Over the course of the nearly 70-year-long Glass-Steagall era, the clear-cut separation of traditional commercial banking and securities activities gradually eroded. This erosion was the result of a confluence of matters, including market changes, statutory changes, and regulatory and judicial interpretations. The Glass-Steagall era formally ended in 1999 when the Gramm-Leach-Bliley Act (GLBA) repealed the Glass-Steagall Act\\'s restrictions on affiliations between commercial and investment banks. Less than a decade after GLBA, the United States suffered its worst financial crisis since the Great Depression. Some have argued that the partial repeal either was a cause of the financial crisis that resulted in the so-called Great Recession or that it fueled and worsened the crisis\\'s deleterious effect. On the other hand, some policymakers argue that Glass-Steagall issues were not significant causes of the crisis, and that the Glass-Steagall Act would have made responding to the crisis more difficult if it had remained in place. The Dodd-Frank Wall Street Reform and Consumer Protection Act (Dodd-Frank Act; P.L. 111-203) was Congress\\'s primary legislative prescription to prevent a similar financial crisis in the future. The Dodd-Frank Act neither reinstated the sections of the Glass-Steagall Act that were repealed by GLBA nor substantially modified the ability of banking firms to affiliate with securities firms. It did, however, include some arguably Glass-Steagall-like provisions, which were designed to promote financial stability going forward, reduce various speculative activities of commercial banks, and reduce the likelihood that the U.S. government would have to provide taxpayer support to avert or minimize a future financial crisis. Some believe that a more effective way of accomplishing these policy objectives would be to fully reinstate the Glass-Steagall Act. In fact, multiple bills have been introduced in the 114th Congress with that stated purpose. These bills include: S. 1709/H.R. 3054, The 21st Century Glass-Steagall Act of 2015, and H.R. 381, the Return to Prudent Banking Act of 2015. On the other side of the policy discussion, some argue that the Glass-Steagall Act is ill-suited for the current financial system and that the recent financial crisis would have occurred even if GLBA had never partially repealed the Glass-Steagall Act. Even if the Dodd-Frank Act had completely re-enacted the repealed provisions of the Glass-Steagall Act, the financial history of the Glass-Steagall era shows that regulatory walls could be difficult to maintain or enforce.'"
      ]
     },
     "execution_count": 124,
     "metadata": {},
     "output_type": "execute_result"
    }
   ],
   "source": [
    "data[\"summary\"]"
   ]
  },
  {
   "cell_type": "code",
   "execution_count": 135,
   "metadata": {},
   "outputs": [],
   "source": [
    "def truncate_middle(text_ids, size, head_size=.5):\n",
    "\thead_len = int(size * head_size)\n",
    "\ttail_len = size - head_len\n",
    "\ttruncated = np.concatenate([\n",
    "\t\ttext_ids[:head_len],\n",
    "\t\ttext_ids[len(text_ids) - tail_len:]\n",
    "\t])\n",
    "\treturn torch.tensor(truncated)"
   ]
  },
  {
   "cell_type": "code",
   "execution_count": 157,
   "metadata": {},
   "outputs": [
    {
     "data": {
      "text/plain": [
       "torch.Size([1, 10740])"
      ]
     },
     "execution_count": 157,
     "metadata": {},
     "output_type": "execute_result"
    }
   ],
   "source": [
    "all_tokenized = tokenizer([data[\"text\"]], return_tensors=\"pt\")[\"input_ids\"]\n",
    "all_tokenized.shape"
   ]
  },
  {
   "cell_type": "code",
   "execution_count": 163,
   "metadata": {},
   "outputs": [
    {
     "data": {
      "text/plain": [
       "torch.Size([1024])"
      ]
     },
     "execution_count": 163,
     "metadata": {},
     "output_type": "execute_result"
    }
   ],
   "source": [
    "inp = truncate_middle(all_tokenized[0], context_size)\n",
    "inp.shape"
   ]
  },
  {
   "cell_type": "code",
   "execution_count": 165,
   "metadata": {},
   "outputs": [
    {
     "data": {
      "text/plain": [
       "tensor([[    2,     0, 25997,  8254,  1861,     8,   915,  3454,   149,   237,\n",
       "          9042,     9,     5, 12539,  1783,     9, 26873,     4,    20, 18753,\n",
       "            12, 16025,  1783,    34,   314, 29929, 37028,   545,     8,   733,\n",
       "             9,     5, 10352,    12, 21426, 44195,  1783,     4,  6974, 36466,\n",
       "             9,   915,  3454,   189,   244,  1888,     5, 13879,     9, 14951,\n",
       "          8068,  9023,     4,    20, 10875,     6,    30,  1495,     6,   473,\n",
       "            45,  1100,   141,   915,  1520,    32, 13588,   624,  5157,  1048,\n",
       "             4,     2]])"
      ]
     },
     "execution_count": 165,
     "metadata": {},
     "output_type": "execute_result"
    }
   ],
   "source": [
    "out = model.generate(inp[None, :], max_length=500)\n",
    "out"
   ]
  },
  {
   "cell_type": "code",
   "execution_count": 166,
   "metadata": {},
   "outputs": [
    {
     "data": {
      "text/plain": [
       "'</s><s>Congress separated commercial and investment banking through four sections of the Banking Act of 1933. The Dodd-Frank Act has left untouched Sections 16 and 21 of the Glass-Steagall Act. Separation of investment banking may help reduce the complexity of examining depositories. The separation, by itself, does not address how investment banks are regulated within securities markets.</s>'"
      ]
     },
     "execution_count": 166,
     "metadata": {},
     "output_type": "execute_result"
    }
   ],
   "source": [
    "tokenizer.decode(out[0])"
   ]
  },
  {
   "cell_type": "code",
   "execution_count": null,
   "metadata": {},
   "outputs": [],
   "source": []
  }
 ],
 "metadata": {
  "kernelspec": {
   "display_name": "uccs-reu",
   "language": "python",
   "name": "python3"
  },
  "language_info": {
   "codemirror_mode": {
    "name": "ipython",
    "version": 3
   },
   "file_extension": ".py",
   "mimetype": "text/x-python",
   "name": "python",
   "nbconvert_exporter": "python",
   "pygments_lexer": "ipython3",
   "version": "3.12.2"
  }
 },
 "nbformat": 4,
 "nbformat_minor": 2
}
